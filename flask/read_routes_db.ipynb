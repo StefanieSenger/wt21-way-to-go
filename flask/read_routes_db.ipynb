{
 "cells": [
  {
   "cell_type": "markdown",
   "id": "5f6ce9f0",
   "metadata": {},
   "source": [
    "## To check if the routes.db works\n",
    "Routes.db was not working - it was saying that it is an empty DataFrame but I could see on the editor that it was actually not. Therefore, I executed some test codes here. I realized I mistakenly created two tables in the routes.db: 1) routes, 2) routes.db. Thus, it did not recognize the actual data because it was embedded. I fixed the part which caused the error in the create_sqlite_db, and now routes.db works fine."
   ]
  },
  {
   "cell_type": "code",
   "execution_count": 3,
   "id": "bc249040",
   "metadata": {},
   "outputs": [
    {
     "name": "stdout",
     "output_type": "stream",
     "text": [
      "            0                                                  1    2   \\\n",
      "0       113043  LINESTRING (13.69072 52.45147, 13.69075 52.451...  133   \n",
      "1       113043  LINESTRING (13.69072 52.45147, 13.69075 52.451...  282   \n",
      "2       113043  LINESTRING (13.69072 52.45147, 13.69075 52.451...  288   \n",
      "3       113043  LINESTRING (13.69072 52.45147, 13.69075 52.451...  288   \n",
      "4       113043  LINESTRING (13.69072 52.45147, 13.69075 52.451...  292   \n",
      "...        ...                                                ...  ...   \n",
      "91099  3674009  LINESTRING (13.21284 52.53883, 13.21286 52.538...  388   \n",
      "91100  3674009  LINESTRING (13.21284 52.53883, 13.21286 52.538...  388   \n",
      "91101  3674009  LINESTRING (13.21284 52.53883, 13.21286 52.538...  388   \n",
      "91102  3674128  LINESTRING (13.26176 52.4888, 13.2618 52.48877...  281   \n",
      "91103  3675718  LINESTRING (13.2586 52.50803, 13.25863 52.5080...  119   \n",
      "\n",
      "             3         4                              5          6   \\\n",
      "0      13.67734  52.43849  POINT (13.6774745 52.4385208)  13.677475   \n",
      "1      13.62759  52.44386   POINT (13.6279051 52.444312)  13.627905   \n",
      "2      13.62704  52.44442  POINT (13.6271595 52.4444457)  13.627159   \n",
      "3      13.62704  52.44442  POINT (13.6269487 52.4444808)  13.626949   \n",
      "4      13.62716  52.44509  POINT (13.6273851 52.4453161)  13.627385   \n",
      "...         ...       ...                            ...        ...   \n",
      "91099  13.28369  52.58943  POINT (13.2834619 52.5895611)  13.283462   \n",
      "91100  13.28369  52.58943  POINT (13.2843859 52.5890324)  13.284386   \n",
      "91101  13.28369  52.58943  POINT (13.2844894 52.5889504)  13.284489   \n",
      "91102  13.19110  52.45177    POINT (13.191308 52.451652)  13.191308   \n",
      "91103  13.21586  52.49709   POINT (13.2158511 52.497104)  13.215851   \n",
      "\n",
      "              7          8          9         10  \n",
      "0      52.438521  viewpoint  Müggeleck  0.000138  \n",
      "1      52.444312      bench       None  0.000551  \n",
      "2      52.444446      bench       None  0.000122  \n",
      "3      52.444481      bench       None  0.000110  \n",
      "4      52.445316      bench       None  0.000319  \n",
      "...          ...        ...        ...       ...  \n",
      "91099  52.589561       tree       None  0.000263  \n",
      "91100  52.589032       tree       None  0.000801  \n",
      "91101  52.588950       tree       None  0.000932  \n",
      "91102  52.451652       tree       None  0.000239  \n",
      "91103  52.497104       tree       None  0.000017  \n",
      "\n",
      "[91104 rows x 11 columns]\n"
     ]
    }
   ],
   "source": [
    "import sqlite3\n",
    "import pandas as pd\n",
    "\n",
    "con = sqlite3.connect('routes.db') \n",
    "cur = con.cursor()\n",
    "                 \n",
    "cur.execute('''SELECT * FROM routes ORDER BY route_id''')\n",
    "\n",
    "df = pd.DataFrame(cur.fetchall())\n",
    "\n",
    "print(df)"
   ]
  },
  {
   "cell_type": "markdown",
   "id": "938599b8",
   "metadata": {},
   "source": [
    "## To find the header list in the SQL DB"
   ]
  },
  {
   "cell_type": "code",
   "execution_count": 1,
   "id": "4ba079b4",
   "metadata": {},
   "outputs": [
    {
     "name": "stdout",
     "output_type": "stream",
     "text": [
      "[('routes',)]\n"
     ]
    }
   ],
   "source": [
    "# loading in modules\n",
    "import sqlite3\n",
    "\n",
    "# creating file path\n",
    "dbfile = 'routes.db'\n",
    "# Create a SQL connection to our SQLite database\n",
    "con = sqlite3.connect(dbfile)\n",
    "\n",
    "# creating cursor\n",
    "cur = con.cursor()\n",
    "\n",
    "# reading all table names\n",
    "table_list = [a for a in cur.execute(\"SELECT name FROM sqlite_master WHERE type = 'table'\")]\n",
    "# here is you table list\n",
    "print(table_list)\n",
    "\n",
    "# Be sure to close the connection\n",
    "con.close()"
   ]
  },
  {
   "cell_type": "markdown",
   "id": "fd1ec052",
   "metadata": {},
   "source": [
    "## As in Pandas DataFrame"
   ]
  },
  {
   "cell_type": "code",
   "execution_count": 40,
   "id": "20642c9a",
   "metadata": {},
   "outputs": [
    {
     "data": {
      "text/html": [
       "<div>\n",
       "<style scoped>\n",
       "    .dataframe tbody tr th:only-of-type {\n",
       "        vertical-align: middle;\n",
       "    }\n",
       "\n",
       "    .dataframe tbody tr th {\n",
       "        vertical-align: top;\n",
       "    }\n",
       "\n",
       "    .dataframe thead th {\n",
       "        text-align: right;\n",
       "    }\n",
       "</style>\n",
       "<table border=\"1\" class=\"dataframe\">\n",
       "  <thead>\n",
       "    <tr style=\"text-align: right;\">\n",
       "      <th></th>\n",
       "      <th>route_id</th>\n",
       "      <th>route_linestring</th>\n",
       "      <th>num_of_waypoint</th>\n",
       "      <th>waypoint_longitude</th>\n",
       "      <th>waypoint_latitude</th>\n",
       "      <th>poi_lat_lgt</th>\n",
       "      <th>poi_longitude</th>\n",
       "      <th>poi_latitude</th>\n",
       "      <th>poi_category</th>\n",
       "      <th>poi_name</th>\n",
       "      <th>distance</th>\n",
       "    </tr>\n",
       "  </thead>\n",
       "  <tbody>\n",
       "    <tr>\n",
       "      <th>0</th>\n",
       "      <td>113043</td>\n",
       "      <td>LINESTRING (13.69072 52.45147, 13.69075 52.451...</td>\n",
       "      <td>133</td>\n",
       "      <td>13.67734</td>\n",
       "      <td>52.43849</td>\n",
       "      <td>POINT (13.6774745 52.4385208)</td>\n",
       "      <td>13.677475</td>\n",
       "      <td>52.438521</td>\n",
       "      <td>viewpoint</td>\n",
       "      <td>Müggeleck</td>\n",
       "      <td>0.000138</td>\n",
       "    </tr>\n",
       "  </tbody>\n",
       "</table>\n",
       "</div>"
      ],
      "text/plain": [
       "   route_id                                   route_linestring  \\\n",
       "0    113043  LINESTRING (13.69072 52.45147, 13.69075 52.451...   \n",
       "\n",
       "   num_of_waypoint  waypoint_longitude  waypoint_latitude  \\\n",
       "0              133            13.67734           52.43849   \n",
       "\n",
       "                     poi_lat_lgt  poi_longitude  poi_latitude poi_category  \\\n",
       "0  POINT (13.6774745 52.4385208)      13.677475     52.438521    viewpoint   \n",
       "\n",
       "    poi_name  distance  \n",
       "0  Müggeleck  0.000138  "
      ]
     },
     "execution_count": 40,
     "metadata": {},
     "output_type": "execute_result"
    }
   ],
   "source": [
    "import sqlite3\n",
    "import pandas as pd\n",
    "dbfile = 'routes.db'\n",
    "con = sqlite3.connect(dbfile) \n",
    "cur = con.cursor()\n",
    "\n",
    "pd.read_sql('SELECT * FROM routes LIMIT 1;', con)\n"
   ]
  }
 ],
 "metadata": {
  "kernelspec": {
   "display_name": "Python 3 (ipykernel)",
   "language": "python",
   "name": "python3"
  },
  "language_info": {
   "codemirror_mode": {
    "name": "ipython",
    "version": 3
   },
   "file_extension": ".py",
   "mimetype": "text/x-python",
   "name": "python",
   "nbconvert_exporter": "python",
   "pygments_lexer": "ipython3",
   "version": "3.8.8"
  }
 },
 "nbformat": 4,
 "nbformat_minor": 5
}
