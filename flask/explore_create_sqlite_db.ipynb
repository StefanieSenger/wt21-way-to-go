{
 "cells": [
  {
   "cell_type": "code",
   "execution_count": 1,
   "id": "22790e3a",
   "metadata": {},
   "outputs": [
    {
     "data": {
      "text/html": [
       "<div>\n",
       "<style scoped>\n",
       "    .dataframe tbody tr th:only-of-type {\n",
       "        vertical-align: middle;\n",
       "    }\n",
       "\n",
       "    .dataframe tbody tr th {\n",
       "        vertical-align: top;\n",
       "    }\n",
       "\n",
       "    .dataframe thead th {\n",
       "        text-align: right;\n",
       "    }\n",
       "</style>\n",
       "<table border=\"1\" class=\"dataframe\">\n",
       "  <thead>\n",
       "    <tr style=\"text-align: right;\">\n",
       "      <th></th>\n",
       "      <th>route_id</th>\n",
       "      <th>route_linestring</th>\n",
       "      <th>num_of_waypoint</th>\n",
       "      <th>waypoint_longitude</th>\n",
       "      <th>waypoint_latitude</th>\n",
       "      <th>poi_lat_lgt</th>\n",
       "      <th>poi_longitude</th>\n",
       "      <th>poi_latitude</th>\n",
       "      <th>poi_category</th>\n",
       "      <th>poi_name</th>\n",
       "      <th>distance</th>\n",
       "    </tr>\n",
       "  </thead>\n",
       "  <tbody>\n",
       "    <tr>\n",
       "      <th>0</th>\n",
       "      <td>113043</td>\n",
       "      <td>LINESTRING (13.69072 52.45147, 13.69075 52.451...</td>\n",
       "      <td>133</td>\n",
       "      <td>13.67734</td>\n",
       "      <td>52.43849</td>\n",
       "      <td>POINT (13.6774745 52.4385208)</td>\n",
       "      <td>13.677475</td>\n",
       "      <td>52.438521</td>\n",
       "      <td>viewpoint</td>\n",
       "      <td>Müggeleck</td>\n",
       "      <td>0.000138</td>\n",
       "    </tr>\n",
       "    <tr>\n",
       "      <th>1</th>\n",
       "      <td>113043</td>\n",
       "      <td>LINESTRING (13.69072 52.45147, 13.69075 52.451...</td>\n",
       "      <td>282</td>\n",
       "      <td>13.62759</td>\n",
       "      <td>52.44386</td>\n",
       "      <td>POINT (13.6279051 52.444312)</td>\n",
       "      <td>13.627905</td>\n",
       "      <td>52.444312</td>\n",
       "      <td>bench</td>\n",
       "      <td>NaN</td>\n",
       "      <td>0.000551</td>\n",
       "    </tr>\n",
       "    <tr>\n",
       "      <th>2</th>\n",
       "      <td>113043</td>\n",
       "      <td>LINESTRING (13.69072 52.45147, 13.69075 52.451...</td>\n",
       "      <td>288</td>\n",
       "      <td>13.62704</td>\n",
       "      <td>52.44442</td>\n",
       "      <td>POINT (13.6271595 52.4444457)</td>\n",
       "      <td>13.627159</td>\n",
       "      <td>52.444446</td>\n",
       "      <td>bench</td>\n",
       "      <td>NaN</td>\n",
       "      <td>0.000122</td>\n",
       "    </tr>\n",
       "    <tr>\n",
       "      <th>3</th>\n",
       "      <td>113043</td>\n",
       "      <td>LINESTRING (13.69072 52.45147, 13.69075 52.451...</td>\n",
       "      <td>288</td>\n",
       "      <td>13.62704</td>\n",
       "      <td>52.44442</td>\n",
       "      <td>POINT (13.6269487 52.4444808)</td>\n",
       "      <td>13.626949</td>\n",
       "      <td>52.444481</td>\n",
       "      <td>bench</td>\n",
       "      <td>NaN</td>\n",
       "      <td>0.000110</td>\n",
       "    </tr>\n",
       "    <tr>\n",
       "      <th>4</th>\n",
       "      <td>113043</td>\n",
       "      <td>LINESTRING (13.69072 52.45147, 13.69075 52.451...</td>\n",
       "      <td>292</td>\n",
       "      <td>13.62716</td>\n",
       "      <td>52.44509</td>\n",
       "      <td>POINT (13.6273851 52.4453161)</td>\n",
       "      <td>13.627385</td>\n",
       "      <td>52.445316</td>\n",
       "      <td>bench</td>\n",
       "      <td>NaN</td>\n",
       "      <td>0.000319</td>\n",
       "    </tr>\n",
       "  </tbody>\n",
       "</table>\n",
       "</div>"
      ],
      "text/plain": [
       "   route_id                                   route_linestring  \\\n",
       "0    113043  LINESTRING (13.69072 52.45147, 13.69075 52.451...   \n",
       "1    113043  LINESTRING (13.69072 52.45147, 13.69075 52.451...   \n",
       "2    113043  LINESTRING (13.69072 52.45147, 13.69075 52.451...   \n",
       "3    113043  LINESTRING (13.69072 52.45147, 13.69075 52.451...   \n",
       "4    113043  LINESTRING (13.69072 52.45147, 13.69075 52.451...   \n",
       "\n",
       "   num_of_waypoint  waypoint_longitude  waypoint_latitude  \\\n",
       "0              133            13.67734           52.43849   \n",
       "1              282            13.62759           52.44386   \n",
       "2              288            13.62704           52.44442   \n",
       "3              288            13.62704           52.44442   \n",
       "4              292            13.62716           52.44509   \n",
       "\n",
       "                     poi_lat_lgt  poi_longitude  poi_latitude poi_category  \\\n",
       "0  POINT (13.6774745 52.4385208)      13.677475     52.438521    viewpoint   \n",
       "1   POINT (13.6279051 52.444312)      13.627905     52.444312        bench   \n",
       "2  POINT (13.6271595 52.4444457)      13.627159     52.444446        bench   \n",
       "3  POINT (13.6269487 52.4444808)      13.626949     52.444481        bench   \n",
       "4  POINT (13.6273851 52.4453161)      13.627385     52.445316        bench   \n",
       "\n",
       "    poi_name  distance  \n",
       "0  Müggeleck  0.000138  \n",
       "1        NaN  0.000551  \n",
       "2        NaN  0.000122  \n",
       "3        NaN  0.000110  \n",
       "4        NaN  0.000319  "
      ]
     },
     "execution_count": 1,
     "metadata": {},
     "output_type": "execute_result"
    }
   ],
   "source": [
    "import pandas as pd\n",
    "\n",
    "data = pd.read_csv (\"joint_data.csv\")   \n",
    "df = pd.DataFrame(data)\n",
    "\n",
    "#print(df)\n",
    "df.head(5)"
   ]
  },
  {
   "cell_type": "code",
   "execution_count": 2,
   "id": "ae82fda3",
   "metadata": {},
   "outputs": [
    {
     "name": "stdout",
     "output_type": "stream",
     "text": [
      "route_id\n",
      "route_linestring\n",
      "num_of_waypoint\n",
      "waypoint_longitude\n",
      "waypoint_latitude\n",
      "poi_lat_lgt\n",
      "poi_longitude\n",
      "poi_latitude\n",
      "poi_category\n",
      "poi_name\n",
      "distance\n"
     ]
    }
   ],
   "source": [
    "for col in df.columns:\n",
    "    print(col)"
   ]
  },
  {
   "cell_type": "code",
   "execution_count": 5,
   "id": "bfbc349d",
   "metadata": {},
   "outputs": [
    {
     "name": "stdout",
     "output_type": "stream",
     "text": [
      "route_id, route_linestring, num_of_waypoint, waypoint_longitude, waypoint_latitude, poi_lat_lgt, poi_longitude, poi_latitude, poi_category, poi_name, distance\n"
     ]
    }
   ],
   "source": [
    "header_list = list(df.columns)\n",
    "header_string = ', '.join(header_list)\n",
    "print(header_string)"
   ]
  },
  {
   "cell_type": "code",
   "execution_count": 3,
   "id": "9cae47ce",
   "metadata": {},
   "outputs": [],
   "source": [
    "# import pyodbc\n",
    "\n",
    "# conn = pyodbc.connect('Driver={SQL Server};'\n",
    "#                       'Server=RON\\SQLEXPRESS;'\n",
    "#                       'Database=test_database;'\n",
    "#                       'Trusted_Connection=yes;')\n",
    "# cursor = conn.cursor()"
   ]
  },
  {
   "cell_type": "code",
   "execution_count": 4,
   "id": "5291366b",
   "metadata": {},
   "outputs": [],
   "source": [
    "# SELECT @@ SERVERNAME"
   ]
  },
  {
   "cell_type": "code",
   "execution_count": 7,
   "id": "abaabd5a",
   "metadata": {},
   "outputs": [
    {
     "ename": "NameError",
     "evalue": "name 'routes' is not defined",
     "output_type": "error",
     "traceback": [
      "\u001b[0;31m---------------------------------------------------------------------------\u001b[0m",
      "\u001b[0;31mNameError\u001b[0m                                 Traceback (most recent call last)",
      "\u001b[0;32m/var/folders/r9/yr71vk1x07q8tkck__lk08t00000gn/T/ipykernel_96173/979222298.py\u001b[0m in \u001b[0;36m<module>\u001b[0;34m\u001b[0m\n\u001b[0;32m----> 1\u001b[0;31m \u001b[0mdf\u001b[0m\u001b[0;34m.\u001b[0m\u001b[0mto_sql\u001b[0m\u001b[0;34m(\u001b[0m\u001b[0mroutes\u001b[0m\u001b[0;34m.\u001b[0m\u001b[0mdb\u001b[0m\u001b[0;34m,\u001b[0m \u001b[0msqlite3\u001b[0m\u001b[0;34m.\u001b[0m\u001b[0mConnection\u001b[0m\u001b[0;34m)\u001b[0m\u001b[0;34m\u001b[0m\u001b[0;34m\u001b[0m\u001b[0m\n\u001b[0m",
      "\u001b[0;31mNameError\u001b[0m: name 'routes' is not defined"
     ]
    }
   ],
   "source": [
    "#df.to_sql(routes.db, sqlite3.Connection)"
   ]
  },
  {
   "cell_type": "code",
   "execution_count": 17,
   "id": "5a3938a3",
   "metadata": {},
   "outputs": [],
   "source": [
    "from sqlalchemy import create_engine\n",
    "engine = create_engine('sqlite://', echo=False)\n",
    "df.to_sql('routes.db', con=engine)"
   ]
  },
  {
   "cell_type": "code",
   "execution_count": 13,
   "id": "0186e11e",
   "metadata": {},
   "outputs": [],
   "source": [
    "routes_db = engine.execute(\"SELECT * FROM routes\").fetchall()"
   ]
  },
  {
   "cell_type": "code",
   "execution_count": 14,
   "id": "2cad79ba",
   "metadata": {},
   "outputs": [
    {
     "ename": "TypeError",
     "evalue": "to_sql() missing 1 required positional argument: 'con'",
     "output_type": "error",
     "traceback": [
      "\u001b[0;31m---------------------------------------------------------------------------\u001b[0m",
      "\u001b[0;31mTypeError\u001b[0m                                 Traceback (most recent call last)",
      "\u001b[0;32m/var/folders/r9/yr71vk1x07q8tkck__lk08t00000gn/T/ipykernel_96173/3554304301.py\u001b[0m in \u001b[0;36m<module>\u001b[0;34m\u001b[0m\n\u001b[0;32m----> 1\u001b[0;31m \u001b[0mdf\u001b[0m\u001b[0;34m.\u001b[0m\u001b[0mto_sql\u001b[0m\u001b[0;34m(\u001b[0m\u001b[0;34m'routes.db'\u001b[0m\u001b[0;34m)\u001b[0m\u001b[0;34m\u001b[0m\u001b[0;34m\u001b[0m\u001b[0m\n\u001b[0m",
      "\u001b[0;31mTypeError\u001b[0m: to_sql() missing 1 required positional argument: 'con'"
     ]
    }
   ],
   "source": []
  },
  {
   "cell_type": "code",
   "execution_count": null,
   "id": "be3e8b63",
   "metadata": {},
   "outputs": [],
   "source": []
  }
 ],
 "metadata": {
  "kernelspec": {
   "display_name": "Python 3 (ipykernel)",
   "language": "python",
   "name": "python3"
  },
  "language_info": {
   "codemirror_mode": {
    "name": "ipython",
    "version": 3
   },
   "file_extension": ".py",
   "mimetype": "text/x-python",
   "name": "python",
   "nbconvert_exporter": "python",
   "pygments_lexer": "ipython3",
   "version": "3.8.8"
  }
 },
 "nbformat": 4,
 "nbformat_minor": 5
}
