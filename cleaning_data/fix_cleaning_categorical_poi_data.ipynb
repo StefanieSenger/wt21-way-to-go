{
 "cells": [
  {
   "cell_type": "code",
   "execution_count": 1,
   "metadata": {},
   "outputs": [],
   "source": [
    "import pandas as pd"
   ]
  },
  {
   "cell_type": "markdown",
   "metadata": {},
   "source": [
    "<font size=\"6\"> Cleaning categories from cleaned poi data </font>"
   ]
  },
  {
   "cell_type": "code",
   "execution_count": 6,
   "metadata": {},
   "outputs": [
    {
     "data": {
      "text/html": [
       "<div>\n",
       "<style scoped>\n",
       "    .dataframe tbody tr th:only-of-type {\n",
       "        vertical-align: middle;\n",
       "    }\n",
       "\n",
       "    .dataframe tbody tr th {\n",
       "        vertical-align: top;\n",
       "    }\n",
       "\n",
       "    .dataframe thead th {\n",
       "        text-align: right;\n",
       "    }\n",
       "</style>\n",
       "<table border=\"1\" class=\"dataframe\">\n",
       "  <thead>\n",
       "    <tr style=\"text-align: right;\">\n",
       "      <th></th>\n",
       "      <th>Unnamed: 0</th>\n",
       "      <th>category</th>\n",
       "      <th>name</th>\n",
       "      <th>id</th>\n",
       "      <th>lat</th>\n",
       "      <th>lon</th>\n",
       "    </tr>\n",
       "  </thead>\n",
       "  <tbody>\n",
       "    <tr>\n",
       "      <th>0</th>\n",
       "      <td>0</td>\n",
       "      <td>['atm']</td>\n",
       "      <td>Bank für Sozialwirtschaft</td>\n",
       "      <td>78252154</td>\n",
       "      <td>52.523744</td>\n",
       "      <td>13.398627</td>\n",
       "    </tr>\n",
       "    <tr>\n",
       "      <th>1</th>\n",
       "      <td>1</td>\n",
       "      <td>['atm']</td>\n",
       "      <td>Sparda-Bank</td>\n",
       "      <td>87036263</td>\n",
       "      <td>52.532985</td>\n",
       "      <td>13.384282</td>\n",
       "    </tr>\n",
       "    <tr>\n",
       "      <th>2</th>\n",
       "      <td>2</td>\n",
       "      <td>['atm']</td>\n",
       "      <td>Bankhaus August Lenz</td>\n",
       "      <td>89275133</td>\n",
       "      <td>52.518025</td>\n",
       "      <td>13.406956</td>\n",
       "    </tr>\n",
       "    <tr>\n",
       "      <th>3</th>\n",
       "      <td>3</td>\n",
       "      <td>['atm']</td>\n",
       "      <td>NaN</td>\n",
       "      <td>213106623</td>\n",
       "      <td>52.542170</td>\n",
       "      <td>13.441137</td>\n",
       "    </tr>\n",
       "    <tr>\n",
       "      <th>4</th>\n",
       "      <td>4</td>\n",
       "      <td>['atm']</td>\n",
       "      <td>Berliner Sparkasse</td>\n",
       "      <td>213113204</td>\n",
       "      <td>52.542750</td>\n",
       "      <td>13.392862</td>\n",
       "    </tr>\n",
       "  </tbody>\n",
       "</table>\n",
       "</div>"
      ],
      "text/plain": [
       "   Unnamed: 0 category                       name         id        lat  \\\n",
       "0           0  ['atm']  Bank für Sozialwirtschaft   78252154  52.523744   \n",
       "1           1  ['atm']                Sparda-Bank   87036263  52.532985   \n",
       "2           2  ['atm']       Bankhaus August Lenz   89275133  52.518025   \n",
       "3           3  ['atm']                        NaN  213106623  52.542170   \n",
       "4           4  ['atm']         Berliner Sparkasse  213113204  52.542750   \n",
       "\n",
       "         lon  \n",
       "0  13.398627  \n",
       "1  13.384282  \n",
       "2  13.406956  \n",
       "3  13.441137  \n",
       "4  13.392862  "
      ]
     },
     "execution_count": 6,
     "metadata": {},
     "output_type": "execute_result"
    }
   ],
   "source": [
    "# Reading in the cleaned poi data csv into a df\n",
    "df_fixclean = pd.read_csv(f'cleaning_data\\cleaned_all_poi_data.csv')\n",
    "df_fixclean.head()"
   ]
  },
  {
   "cell_type": "markdown",
   "metadata": {},
   "source": [
    "<font size=\"5\"> .str methods on the 'category' column </font>"
   ]
  },
  {
   "cell_type": "code",
   "execution_count": 7,
   "metadata": {},
   "outputs": [],
   "source": [
    "# Slicing off \"['']\" at beginning and end\n",
    "df_fixclean['category'] = df_fixclean['category'].str.slice(start=2, stop=-2)"
   ]
  },
  {
   "cell_type": "code",
   "execution_count": 8,
   "metadata": {},
   "outputs": [
    {
     "data": {
      "text/plain": [
       "False    212954\n",
       "True         57\n",
       "Name: category, dtype: int64"
      ]
     },
     "execution_count": 8,
     "metadata": {},
     "output_type": "execute_result"
    }
   ],
   "source": [
    "# Counting how many times our poi has two categories\n",
    "double_categories = [\"bar', 'convenience\", \"bar', 'historic\", \"bench', 'viewpoint\", \"cafe', 'convenience\", \"historic', 'attraction\", \"historic', 'tree\", \"tree', 'attraction\"]\n",
    "df_fixclean['category'].isin(double_categories).value_counts()"
   ]
  },
  {
   "cell_type": "markdown",
   "metadata": {},
   "source": [
    "The isin() method returns that only 57 poi have more than one category. Their number is so small, that it's justified to simply assign them the first category they come with."
   ]
  },
  {
   "cell_type": "code",
   "execution_count": 9,
   "metadata": {},
   "outputs": [
    {
     "data": {
      "text/plain": [
       "1041           bar\n",
       "1098           bar\n",
       "2305         bench\n",
       "8365         bench\n",
       "21289         cafe\n",
       "21498         cafe\n",
       "21499         cafe\n",
       "22267         cafe\n",
       "22987         cafe\n",
       "23319         cafe\n",
       "28608          bar\n",
       "28630     historic\n",
       "28658     historic\n",
       "29129         tree\n",
       "29136         tree\n",
       "29482         tree\n",
       "30394         tree\n",
       "30638         tree\n",
       "30663     historic\n",
       "34220         tree\n",
       "50052         tree\n",
       "50113         tree\n",
       "97723         tree\n",
       "183443    historic\n",
       "211502         bar\n",
       "211522        cafe\n",
       "211588        cafe\n",
       "211590        cafe\n",
       "211728        cafe\n",
       "211853        cafe\n",
       "211865        cafe\n",
       "211927        cafe\n",
       "212129        cafe\n",
       "212216        cafe\n",
       "212287        cafe\n",
       "212293    historic\n",
       "212296        tree\n",
       "212297    historic\n",
       "212298        tree\n",
       "212309        tree\n",
       "212311    historic\n",
       "212316    historic\n",
       "212317        tree\n",
       "212319        tree\n",
       "212322    historic\n",
       "212326    historic\n",
       "212327        tree\n",
       "212344    historic\n",
       "212353        tree\n",
       "212355        tree\n",
       "212356    historic\n",
       "212360        tree\n",
       "212367    historic\n",
       "212375    historic\n",
       "212387    historic\n",
       "212818       bench\n",
       "212933       bench\n",
       "Name: category, dtype: object"
      ]
     },
     "execution_count": 9,
     "metadata": {},
     "output_type": "execute_result"
    }
   ],
   "source": [
    "# Splitting the double categories on comma, keeping only the first part\n",
    "filt = df_fixclean['category'].isin(double_categories) # boolean filter for finding double categories\n",
    "df_fixclean['category'] = df_fixclean['category'].str.split(\"',\").str[0] # splitting on \"',\" and keeing first part\n",
    "df_fixclean['category'].loc[filt] # inspecting if it worked (it did)"
   ]
  },
  {
   "cell_type": "markdown",
   "metadata": {},
   "source": [
    "The categories of the points of interest (poi) are now truncated to only one category if (as in 57 cases) there were more than one. All categories now are nicer to look at strings."
   ]
  },
  {
   "cell_type": "code",
   "execution_count": 16,
   "metadata": {},
   "outputs": [
    {
     "data": {
      "text/plain": [
       "tree                  182303\n",
       "bench                  19032\n",
       "restaurant              4687\n",
       "cafe                    2491\n",
       "atm                     1011\n",
       "convenience              869\n",
       "bar                      824\n",
       "picnic_table             434\n",
       "ice_cream                289\n",
       "viewpoint                256\n",
       "gallery                  189\n",
       "museum                   156\n",
       "drinking_water           148\n",
       "nightclub                141\n",
       "tourist_attraction        94\n",
       "historic                  87\n",
       "Name: category, dtype: int64"
      ]
     },
     "execution_count": 16,
     "metadata": {},
     "output_type": "execute_result"
    }
   ],
   "source": [
    "# Renaming one categoriy\n",
    "df_fixclean['category'].replace({'attraction': 'tourist_attraction'}, inplace=True)"
   ]
  },
  {
   "cell_type": "code",
   "execution_count": 18,
   "metadata": {},
   "outputs": [],
   "source": [
    "# Saving cleaned df in a new csv file\n",
    "df_fixclean.to_csv(f'cleaning_data\\cleaned_all_poi_data_fixed.csv', index=False)"
   ]
  }
 ],
 "metadata": {
  "interpreter": {
   "hash": "564affda49c06e85285ae0fe8dd2119d248d31041ebeec06fe0c8f5f82f46c07"
  },
  "kernelspec": {
   "display_name": "Python 3.10.1 64-bit",
   "language": "python",
   "name": "python3"
  },
  "language_info": {
   "codemirror_mode": {
    "name": "ipython",
    "version": 3
   },
   "file_extension": ".py",
   "mimetype": "text/x-python",
   "name": "python",
   "nbconvert_exporter": "python",
   "pygments_lexer": "ipython3",
   "version": "3.10.1"
  },
  "orig_nbformat": 4
 },
 "nbformat": 4,
 "nbformat_minor": 2
}
