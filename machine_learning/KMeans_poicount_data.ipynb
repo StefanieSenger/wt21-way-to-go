{
 "cells": [
  {
   "cell_type": "code",
   "execution_count": 1,
   "metadata": {},
   "outputs": [],
   "source": [
    "import pandas as pd\n",
    "import numpy as np\n",
    "import matplotlib.pyplot as plt\n",
    "import seaborn as sns\n",
    "from sklearn.cluster import KMeans\n",
    "from sklearn.preprocessing import StandardScaler\n",
    "from kneed import KneeLocator\n",
    "from sklearn.metrics import silhouette_score\n",
    "from sklearn.decomposition import PCA\n"
   ]
  },
  {
   "cell_type": "markdown",
   "metadata": {},
   "source": [
    "K-Means Cluster Analysis (by Stefanie)\n",
    "-----------------"
   ]
  },
  {
   "cell_type": "markdown",
   "metadata": {},
   "source": [
    "This notebook is supposed to show a process and be descriptive, so the chosen approaches become clear."
   ]
  },
  {
   "cell_type": "code",
   "execution_count": 2,
   "metadata": {},
   "outputs": [
    {
     "data": {
      "text/html": [
       "<div>\n",
       "<style scoped>\n",
       "    .dataframe tbody tr th:only-of-type {\n",
       "        vertical-align: middle;\n",
       "    }\n",
       "\n",
       "    .dataframe tbody tr th {\n",
       "        vertical-align: top;\n",
       "    }\n",
       "\n",
       "    .dataframe thead th {\n",
       "        text-align: right;\n",
       "    }\n",
       "</style>\n",
       "<table border=\"1\" class=\"dataframe\">\n",
       "  <thead>\n",
       "    <tr style=\"text-align: right;\">\n",
       "      <th></th>\n",
       "      <th>route_id</th>\n",
       "      <th>route_linestring</th>\n",
       "      <th>num_of_waypoint</th>\n",
       "      <th>waypoint_longitude</th>\n",
       "      <th>waypoint_latitude</th>\n",
       "      <th>poi_lat_lgt</th>\n",
       "      <th>poi_longitude</th>\n",
       "      <th>poi_latitude</th>\n",
       "      <th>poi_category</th>\n",
       "      <th>poi_name</th>\n",
       "      <th>distance</th>\n",
       "    </tr>\n",
       "  </thead>\n",
       "  <tbody>\n",
       "    <tr>\n",
       "      <th>0</th>\n",
       "      <td>113043</td>\n",
       "      <td>LINESTRING (13.69072 52.45147, 13.69075 52.451...</td>\n",
       "      <td>133</td>\n",
       "      <td>13.67734</td>\n",
       "      <td>52.43849</td>\n",
       "      <td>POINT (13.6774745 52.4385208)</td>\n",
       "      <td>13.677475</td>\n",
       "      <td>52.438521</td>\n",
       "      <td>viewpoint</td>\n",
       "      <td>Müggeleck</td>\n",
       "      <td>0.000138</td>\n",
       "    </tr>\n",
       "    <tr>\n",
       "      <th>1</th>\n",
       "      <td>113043</td>\n",
       "      <td>LINESTRING (13.69072 52.45147, 13.69075 52.451...</td>\n",
       "      <td>282</td>\n",
       "      <td>13.62759</td>\n",
       "      <td>52.44386</td>\n",
       "      <td>POINT (13.6279051 52.444312)</td>\n",
       "      <td>13.627905</td>\n",
       "      <td>52.444312</td>\n",
       "      <td>bench</td>\n",
       "      <td>NaN</td>\n",
       "      <td>0.000551</td>\n",
       "    </tr>\n",
       "    <tr>\n",
       "      <th>2</th>\n",
       "      <td>113043</td>\n",
       "      <td>LINESTRING (13.69072 52.45147, 13.69075 52.451...</td>\n",
       "      <td>288</td>\n",
       "      <td>13.62704</td>\n",
       "      <td>52.44442</td>\n",
       "      <td>POINT (13.6271595 52.4444457)</td>\n",
       "      <td>13.627159</td>\n",
       "      <td>52.444446</td>\n",
       "      <td>bench</td>\n",
       "      <td>NaN</td>\n",
       "      <td>0.000122</td>\n",
       "    </tr>\n",
       "    <tr>\n",
       "      <th>3</th>\n",
       "      <td>113043</td>\n",
       "      <td>LINESTRING (13.69072 52.45147, 13.69075 52.451...</td>\n",
       "      <td>288</td>\n",
       "      <td>13.62704</td>\n",
       "      <td>52.44442</td>\n",
       "      <td>POINT (13.6269487 52.4444808)</td>\n",
       "      <td>13.626949</td>\n",
       "      <td>52.444481</td>\n",
       "      <td>bench</td>\n",
       "      <td>NaN</td>\n",
       "      <td>0.000110</td>\n",
       "    </tr>\n",
       "    <tr>\n",
       "      <th>4</th>\n",
       "      <td>113043</td>\n",
       "      <td>LINESTRING (13.69072 52.45147, 13.69075 52.451...</td>\n",
       "      <td>292</td>\n",
       "      <td>13.62716</td>\n",
       "      <td>52.44509</td>\n",
       "      <td>POINT (13.6273851 52.4453161)</td>\n",
       "      <td>13.627385</td>\n",
       "      <td>52.445316</td>\n",
       "      <td>bench</td>\n",
       "      <td>NaN</td>\n",
       "      <td>0.000319</td>\n",
       "    </tr>\n",
       "  </tbody>\n",
       "</table>\n",
       "</div>"
      ],
      "text/plain": [
       "   route_id                                   route_linestring  \\\n",
       "0    113043  LINESTRING (13.69072 52.45147, 13.69075 52.451...   \n",
       "1    113043  LINESTRING (13.69072 52.45147, 13.69075 52.451...   \n",
       "2    113043  LINESTRING (13.69072 52.45147, 13.69075 52.451...   \n",
       "3    113043  LINESTRING (13.69072 52.45147, 13.69075 52.451...   \n",
       "4    113043  LINESTRING (13.69072 52.45147, 13.69075 52.451...   \n",
       "\n",
       "   num_of_waypoint  waypoint_longitude  waypoint_latitude  \\\n",
       "0              133            13.67734           52.43849   \n",
       "1              282            13.62759           52.44386   \n",
       "2              288            13.62704           52.44442   \n",
       "3              288            13.62704           52.44442   \n",
       "4              292            13.62716           52.44509   \n",
       "\n",
       "                     poi_lat_lgt  poi_longitude  poi_latitude poi_category  \\\n",
       "0  POINT (13.6774745 52.4385208)      13.677475     52.438521    viewpoint   \n",
       "1   POINT (13.6279051 52.444312)      13.627905     52.444312        bench   \n",
       "2  POINT (13.6271595 52.4444457)      13.627159     52.444446        bench   \n",
       "3  POINT (13.6269487 52.4444808)      13.626949     52.444481        bench   \n",
       "4  POINT (13.6273851 52.4453161)      13.627385     52.445316        bench   \n",
       "\n",
       "    poi_name  distance  \n",
       "0  Müggeleck  0.000138  \n",
       "1        NaN  0.000551  \n",
       "2        NaN  0.000122  \n",
       "3        NaN  0.000110  \n",
       "4        NaN  0.000319  "
      ]
     },
     "execution_count": 2,
     "metadata": {},
     "output_type": "execute_result"
    }
   ],
   "source": [
    "# Just for inspecting (and not forgetting about potentially useful information from) the whole joined dataset\n",
    "df_jointdata = pd.read_csv('joint_data.csv')\n",
    "df_jointdata.head()"
   ]
  },
  {
   "cell_type": "code",
   "execution_count": 3,
   "metadata": {},
   "outputs": [
    {
     "data": {
      "text/html": [
       "<div>\n",
       "<style scoped>\n",
       "    .dataframe tbody tr th:only-of-type {\n",
       "        vertical-align: middle;\n",
       "    }\n",
       "\n",
       "    .dataframe tbody tr th {\n",
       "        vertical-align: top;\n",
       "    }\n",
       "\n",
       "    .dataframe thead th {\n",
       "        text-align: right;\n",
       "    }\n",
       "</style>\n",
       "<table border=\"1\" class=\"dataframe\">\n",
       "  <thead>\n",
       "    <tr style=\"text-align: right;\">\n",
       "      <th></th>\n",
       "      <th>route_id</th>\n",
       "      <th>wp</th>\n",
       "      <th>poi</th>\n",
       "      <th>tree</th>\n",
       "      <th>bench</th>\n",
       "      <th>restaurant</th>\n",
       "      <th>cafe</th>\n",
       "      <th>atm</th>\n",
       "      <th>convenience</th>\n",
       "      <th>bar</th>\n",
       "      <th>ice_cream</th>\n",
       "      <th>picnic</th>\n",
       "      <th>viewpoint</th>\n",
       "      <th>gallery</th>\n",
       "      <th>museum</th>\n",
       "      <th>nightclub</th>\n",
       "      <th>drinking_water</th>\n",
       "      <th>historic</th>\n",
       "      <th>tourist_attraction</th>\n",
       "    </tr>\n",
       "  </thead>\n",
       "  <tbody>\n",
       "    <tr>\n",
       "      <th>0</th>\n",
       "      <td>3503503</td>\n",
       "      <td>8</td>\n",
       "      <td>14</td>\n",
       "      <td>14</td>\n",
       "      <td>0</td>\n",
       "      <td>0</td>\n",
       "      <td>0</td>\n",
       "      <td>0</td>\n",
       "      <td>0</td>\n",
       "      <td>0</td>\n",
       "      <td>0</td>\n",
       "      <td>0</td>\n",
       "      <td>0</td>\n",
       "      <td>0</td>\n",
       "      <td>0</td>\n",
       "      <td>0</td>\n",
       "      <td>0</td>\n",
       "      <td>0</td>\n",
       "      <td>0</td>\n",
       "    </tr>\n",
       "    <tr>\n",
       "      <th>1</th>\n",
       "      <td>2713522</td>\n",
       "      <td>8</td>\n",
       "      <td>2</td>\n",
       "      <td>0</td>\n",
       "      <td>2</td>\n",
       "      <td>0</td>\n",
       "      <td>0</td>\n",
       "      <td>0</td>\n",
       "      <td>0</td>\n",
       "      <td>0</td>\n",
       "      <td>0</td>\n",
       "      <td>0</td>\n",
       "      <td>0</td>\n",
       "      <td>0</td>\n",
       "      <td>0</td>\n",
       "      <td>0</td>\n",
       "      <td>0</td>\n",
       "      <td>0</td>\n",
       "      <td>0</td>\n",
       "    </tr>\n",
       "    <tr>\n",
       "      <th>2</th>\n",
       "      <td>3503504</td>\n",
       "      <td>8</td>\n",
       "      <td>9</td>\n",
       "      <td>9</td>\n",
       "      <td>0</td>\n",
       "      <td>0</td>\n",
       "      <td>0</td>\n",
       "      <td>0</td>\n",
       "      <td>0</td>\n",
       "      <td>0</td>\n",
       "      <td>0</td>\n",
       "      <td>0</td>\n",
       "      <td>0</td>\n",
       "      <td>0</td>\n",
       "      <td>0</td>\n",
       "      <td>0</td>\n",
       "      <td>0</td>\n",
       "      <td>0</td>\n",
       "      <td>0</td>\n",
       "    </tr>\n",
       "    <tr>\n",
       "      <th>3</th>\n",
       "      <td>3568200</td>\n",
       "      <td>8</td>\n",
       "      <td>18</td>\n",
       "      <td>18</td>\n",
       "      <td>0</td>\n",
       "      <td>0</td>\n",
       "      <td>0</td>\n",
       "      <td>0</td>\n",
       "      <td>0</td>\n",
       "      <td>0</td>\n",
       "      <td>0</td>\n",
       "      <td>0</td>\n",
       "      <td>0</td>\n",
       "      <td>0</td>\n",
       "      <td>0</td>\n",
       "      <td>0</td>\n",
       "      <td>0</td>\n",
       "      <td>0</td>\n",
       "      <td>0</td>\n",
       "    </tr>\n",
       "    <tr>\n",
       "      <th>4</th>\n",
       "      <td>3573326</td>\n",
       "      <td>9</td>\n",
       "      <td>2</td>\n",
       "      <td>0</td>\n",
       "      <td>0</td>\n",
       "      <td>2</td>\n",
       "      <td>0</td>\n",
       "      <td>0</td>\n",
       "      <td>0</td>\n",
       "      <td>0</td>\n",
       "      <td>0</td>\n",
       "      <td>0</td>\n",
       "      <td>0</td>\n",
       "      <td>0</td>\n",
       "      <td>0</td>\n",
       "      <td>0</td>\n",
       "      <td>0</td>\n",
       "      <td>0</td>\n",
       "      <td>0</td>\n",
       "    </tr>\n",
       "  </tbody>\n",
       "</table>\n",
       "</div>"
      ],
      "text/plain": [
       "   route_id  wp  poi  tree  bench  restaurant  cafe  atm  convenience  bar  \\\n",
       "0   3503503   8   14    14      0           0     0    0            0    0   \n",
       "1   2713522   8    2     0      2           0     0    0            0    0   \n",
       "2   3503504   8    9     9      0           0     0    0            0    0   \n",
       "3   3568200   8   18    18      0           0     0    0            0    0   \n",
       "4   3573326   9    2     0      0           2     0    0            0    0   \n",
       "\n",
       "   ice_cream  picnic  viewpoint  gallery  museum  nightclub  drinking_water  \\\n",
       "0          0       0          0        0       0          0               0   \n",
       "1          0       0          0        0       0          0               0   \n",
       "2          0       0          0        0       0          0               0   \n",
       "3          0       0          0        0       0          0               0   \n",
       "4          0       0          0        0       0          0               0   \n",
       "\n",
       "   historic  tourist_attraction  \n",
       "0         0                   0  \n",
       "1         0                   0  \n",
       "2         0                   0  \n",
       "3         0                   0  \n",
       "4         0                   0  "
      ]
     },
     "execution_count": 3,
     "metadata": {},
     "output_type": "execute_result"
    }
   ],
   "source": [
    "# Loading extracted poicount data and making it easy to work with\n",
    "df_poicount = pd.read_csv('category_count_per_route.csv')\n",
    "df_poicount.fillna(0, inplace = True) # replacing NaN values with 0s, because having counted no poi in fact IS 0\n",
    "df_poicount = df_poicount.apply(np.int64)\n",
    "df_poicount.rename(columns={\"wp_count\": \"wp\", \"poi_count\": \"poi\", \"tree_count\": \"tree\", \"bench_count\": \"bench\", \"bench_count.1\": \"restaurant\", \"cafe_count\": \"cafe\", \"atm_count\": \"atm\", \"convenience_count\": \"convenience\", \"bar_count\": \"bar\", \"ice_cream_count\": \"ice_cream\", \"picnic_table_count\": \"picnic\", \"viewpoint_count\": \"viewpoint\", \"gallery_count\": \"gallery\", \"museum_count\": \"museum\", \"nightclub_count\": \"nightclub\", \"drinking_water_count\": \"drinking_water\", \"historic_count\": \"historic\", \"tourist_attraction_count\": \"tourist_attraction\"}, inplace=True)\n",
    "df_poicount.head()"
   ]
  },
  {
   "cell_type": "markdown",
   "metadata": {},
   "source": [
    "Cleaning out the noise?\n",
    "--------------------------------------------------------------------------------------------------------------------------------------"
   ]
  },
  {
   "cell_type": "markdown",
   "metadata": {},
   "source": [
    "K-Means is noise sensitive. Since our data has a huge variance both along axis 0 and along axis 1, as can be confirmed by looking at the data exploration files in the visualisation folder, there's lot's of noise to be expected.\n",
    "\n",
    "In our data, we'll define routes as noise, when they pass along an exceptionaly lange number of points of interest. (Yes, our noise is the routes with more information on it than the other routes.)\n",
    "\n",
    "If we'd keep those very distinct elements while going with the recommended number of clusters (k) from the elbow or the silhouette method, k-Means wouldn't perform well returning one big cluster and some sprinkeled ones with very few elements in it each.\n",
    "\n",
    "On the other hand, if we'd exclude exceptionally point of interest-enriched routes, then the given number of clusters would be distributed more among the more dense data, to the cost of losing the \"best\" routes from our joined dataset. This seeming to costly, especially since we would later like to integrate more point of interest data and enrich those existing routes more, that's not a good option either.\n",
    "\n",
    "The solution we adopted here is to keep the noise and at the same time to raise the number of clusters above what elbow or the silhouette method would recommend. This way, we'll get more clusters even in the very dense part of the data while still including those routes that are very rich in points of interest. Of cause, this comes with having clusters that aren't that distinct, but we willingly accept that."
   ]
  },
  {
   "cell_type": "code",
   "execution_count": null,
   "metadata": {},
   "outputs": [],
   "source": [
    "# filtering out any route that pass by more than 500 points of interest             <-- not applied for the reason explained above\n",
    "#df_poicount = df_poicount.loc[lambda x: x['poi'] < 500]"
   ]
  },
  {
   "cell_type": "code",
   "execution_count": 4,
   "metadata": {},
   "outputs": [],
   "source": [
    "# Writing the easier to work with df in a new csv file\n",
    "df_poicount.to_csv(r'poicount.csv', index=False)"
   ]
  },
  {
   "cell_type": "code",
   "execution_count": 5,
   "metadata": {},
   "outputs": [
    {
     "name": "stdout",
     "output_type": "stream",
     "text": [
      "Trees make out by far the largest amount in our data. 79.83184053389533 % of our points of interest is trees.\n"
     ]
    }
   ],
   "source": [
    "# Calculating the percentage of the feature \"tree\", thus reminding us of what's special about our dataset\n",
    "print('Trees make out by far the largest amount in our data.', df_poicount['tree'].sum()/df_poicount.iloc[:, 3:].sum().sum()*100, \"% of our points of interest is trees.\")"
   ]
  },
  {
   "cell_type": "code",
   "execution_count": 6,
   "metadata": {},
   "outputs": [],
   "source": [
    "# Reading poicount data in as numpy arrays\n",
    "poicount = np.genfromtxt('poicount.csv', delimiter=\",\", usecols=range(3, 19), skip_header=1)"
   ]
  },
  {
   "cell_type": "code",
   "execution_count": 7,
   "metadata": {},
   "outputs": [
    {
     "data": {
      "text/plain": [
       "<AxesSubplot:>"
      ]
     },
     "execution_count": 7,
     "metadata": {},
     "output_type": "execute_result"
    },
    {
     "data": {
      "image/png": "[encoded data removed]",
      "text/plain": [
       "<Figure size 1080x720 with 2 Axes>"
      ]
     },
     "metadata": {
      "needs_background": "light"
     },
     "output_type": "display_data"
    }
   ],
   "source": [
    "# Getting correlations for all the points of interest (poi)\n",
    "correlations = df_poicount.iloc[:, 3:].corr()\n",
    "f,ax=plt.subplots(figsize=(15,10))\n",
    "sns.heatmap(correlations,annot=True)"
   ]
  },
  {
   "cell_type": "markdown",
   "metadata": {},
   "source": [
    "Observations:\n",
    "\n",
    "We can see that restaurants, cafes, convenience shops, atms, bars, ice cream shops, galleries, and trees often come along (meaning being on the same route) with each other. It can be suspected that these togeter will form a cluster. (Sometimes, there's also nightclubs and drinking water on these routes.)\n",
    "\n",
    "Viewpoints and picnic tables don't correlate with most of the other features, not even with each other, which is surprising. But sometimes they come along with benches, which make sense. \n",
    "\n",
    "Trees, surprisingly, don't seem to join the nature routes that often, but tend to be on those routes with shops and cafes. \n",
    "\n",
    "Tourist attractions and historic sides don't show a clear correlation and seem to be scattered among the other categories (we only have small amounts of those in our dataset though). \n",
    "\n",
    "Nightclubs seem to go best with bars, cafes and atms, but no clear correlation here."
   ]
  },
  {
   "cell_type": "markdown",
   "metadata": {},
   "source": [
    "Elbow method for finding the optimal k\n",
    "-----"
   ]
  },
  {
   "cell_type": "code",
   "execution_count": 8,
   "metadata": {},
   "outputs": [
    {
     "data": {
      "image/png": "[encoded data removed]",
      "text/plain": [
       "<Figure size 432x288 with 1 Axes>"
      ]
     },
     "metadata": {},
     "output_type": "display_data"
    }
   ],
   "source": [
    "# Increasing k by 1 with every step and store the SSE in a list\n",
    "kmeans_kwargs = {\"init\": \"random\", \"n_init\": 50, \"max_iter\": 500}\n",
    "\n",
    "# Writing the SSE values for each k into a list\n",
    "sse = []\n",
    "for k in range(1, 11):\n",
    "    kmeans = KMeans(n_clusters=k, **kmeans_kwargs)\n",
    "    kmeans.fit(poicount)\n",
    "    sse.append(kmeans.inertia_)\n",
    "\n",
    "# Graphically finding the \"elbow\", where the SSE and the number of clusters are in reasonable trade-off to each other\n",
    "plt.style.use(\"fivethirtyeight\")\n",
    "plt.plot(range(1, 11), sse)\n",
    "plt.xticks(range(1, 11))\n",
    "plt.xlabel(\"Number of Clusters\")\n",
    "plt.ylabel(\"SSE\")\n",
    "plt.show()"
   ]
  },
  {
   "cell_type": "markdown",
   "metadata": {},
   "source": [
    "2 or 3 clusters will yield the best separation."
   ]
  },
  {
   "cell_type": "code",
   "execution_count": 9,
   "metadata": {},
   "outputs": [
    {
     "data": {
      "text/plain": [
       "3"
      ]
     },
     "execution_count": 9,
     "metadata": {},
     "output_type": "execute_result"
    }
   ],
   "source": [
    "# Using the Python package \"kneed\" to identify the elbow point programmatically\n",
    "kl = KneeLocator(range(1, 11), sse, curve=\"convex\", direction=\"decreasing\")\n",
    "kl.elbow"
   ]
  },
  {
   "cell_type": "markdown",
   "metadata": {},
   "source": [
    "3 clusters are recommended."
   ]
  },
  {
   "cell_type": "markdown",
   "metadata": {},
   "source": [
    "Silhouette method for finding the optimal k\n",
    "----------------------"
   ]
  },
  {
   "cell_type": "code",
   "execution_count": 10,
   "metadata": {},
   "outputs": [
    {
     "data": {
      "image/png": "[encoded data removed]",
      "text/plain": [
       "<Figure size 432x288 with 1 Axes>"
      ]
     },
     "metadata": {},
     "output_type": "display_data"
    }
   ],
   "source": [
    "# Making a list for the silhouette coefficients for each k, starting at 2\n",
    "silhouette_coefficients = []\n",
    "for k in range(2, 11):\n",
    "    kmeans = KMeans(n_clusters=k, **kmeans_kwargs)\n",
    "    kmeans.fit(poicount)\n",
    "    score = silhouette_score(poicount, kmeans.labels_)\n",
    "    silhouette_coefficients.append(score)\n",
    "\n",
    "# Plotting the average silhouette scores for each k\n",
    "plt.style.use(\"fivethirtyeight\")\n",
    "plt.plot(range(2, 11), silhouette_coefficients)\n",
    "plt.xticks(range(2, 11))\n",
    "plt.xlabel(\"Number of Clusters\")\n",
    "plt.ylabel(\"Silhouette Coefficient\")\n",
    "plt.show()"
   ]
  },
  {
   "cell_type": "markdown",
   "metadata": {},
   "source": [
    "This would speak for asuming only 2 clusters. In fact, visualisation shows that most of the data is very densely centered, but the silhouette can only sensefully start at two clusters. By experimenting with the data (not shown here) we found out, that when we'd reduce it to two clusters, then the biggest cluster would \"eat\" the second biggest cluster, which is a gross loss in information, especially since the biggest cluster is the biggest by far. So, we'll percede with at least 3 clusters."
   ]
  },
  {
   "cell_type": "markdown",
   "metadata": {},
   "source": [
    "For reasons explained in the above section \"Cleaning out the noise?\", we're not taking the advised k from the elbow or the silhouette method, but we'll add some more clusters."
   ]
  },
  {
   "cell_type": "markdown",
   "metadata": {},
   "source": [
    "Excursus: Implementing k-Means on not standardised feature data\n",
    "------------------------------------------------------------------------------------------------------------------------------------"
   ]
  },
  {
   "cell_type": "markdown",
   "metadata": {},
   "source": [
    "We will see, that this doesn't fit our purpose."
   ]
  },
  {
   "cell_type": "code",
   "execution_count": 17,
   "metadata": {},
   "outputs": [],
   "source": [
    "# Initialising the KMeans class, running 50 times with a max of 500 interations each\n",
    "kmeans = KMeans(init=\"random\", n_clusters=6, n_init=50, max_iter=500)\n",
    "\n",
    "# Applying the KMeans class to our data: it returns that result with the smallest SSE\n",
    "kmeans.fit(poicount)\n",
    "\n",
    "# Getting lables for later mapping these to our dataframe\n",
    "label = kmeans.labels_"
   ]
  },
  {
   "cell_type": "code",
   "execution_count": 18,
   "metadata": {},
   "outputs": [
    {
     "data": {
      "text/plain": [
       "1969625.8074675968"
      ]
     },
     "execution_count": 18,
     "metadata": {},
     "output_type": "execute_result"
    }
   ],
   "source": [
    "# Looking at the lowest SSE value\n",
    "kmeans.inertia_"
   ]
  },
  {
   "cell_type": "markdown",
   "metadata": {},
   "source": [
    "That high number is to be expected, because we have only 430 samples lost in 16 dimensions."
   ]
  },
  {
   "cell_type": "code",
   "execution_count": 19,
   "metadata": {},
   "outputs": [
    {
     "name": "stdout",
     "output_type": "stream",
     "text": [
      "11 iterations\n"
     ]
    }
   ],
   "source": [
    "# Number of iterations required to converge\n",
    "print(kmeans.n_iter_, 'iterations')"
   ]
  },
  {
   "cell_type": "code",
   "execution_count": 20,
   "metadata": {},
   "outputs": [
    {
     "data": {
      "text/plain": [
       "array([4, 4, 4, 4, 4, 4, 4, 4, 4, 4, 3, 4, 4, 4, 4, 4, 4, 3, 4, 4])"
      ]
     },
     "execution_count": 20,
     "metadata": {},
     "output_type": "execute_result"
    }
   ],
   "source": [
    "# Cluster assignments\n",
    "kmeans.labels_[:20] #looking at the first 20"
   ]
  },
  {
   "cell_type": "code",
   "execution_count": 21,
   "metadata": {},
   "outputs": [
    {
     "data": {
      "text/plain": [
       "{0: 3, 1: 14, 2: 16, 3: 73, 4: 276, 5: 48}"
      ]
     },
     "execution_count": 21,
     "metadata": {},
     "output_type": "execute_result"
    }
   ],
   "source": [
    "# Checking how many times each label appears\n",
    "unique, counts = np.unique(kmeans.labels_, return_counts=True)\n",
    "dict(zip(unique, counts))"
   ]
  },
  {
   "cell_type": "markdown",
   "metadata": {},
   "source": [
    "One cluster holds by far most of the routes in it. By raising k over 3 though, we found some subclusters within that very dense centre."
   ]
  },
  {
   "cell_type": "code",
   "execution_count": 22,
   "metadata": {},
   "outputs": [
    {
     "data": {
      "text/html": [
       "<div>\n",
       "<style scoped>\n",
       "    .dataframe tbody tr th:only-of-type {\n",
       "        vertical-align: middle;\n",
       "    }\n",
       "\n",
       "    .dataframe tbody tr th {\n",
       "        vertical-align: top;\n",
       "    }\n",
       "\n",
       "    .dataframe thead tr th {\n",
       "        text-align: left;\n",
       "    }\n",
       "</style>\n",
       "<table border=\"1\" class=\"dataframe\">\n",
       "  <thead>\n",
       "    <tr>\n",
       "      <th></th>\n",
       "      <th>tree</th>\n",
       "      <th>bench</th>\n",
       "      <th>restaurant</th>\n",
       "      <th>cafe</th>\n",
       "      <th>atm</th>\n",
       "      <th>convenience</th>\n",
       "      <th>bar</th>\n",
       "      <th>ice_cream</th>\n",
       "      <th>picnic</th>\n",
       "      <th>viewpoint</th>\n",
       "      <th>gallery</th>\n",
       "      <th>museum</th>\n",
       "      <th>nightclub</th>\n",
       "      <th>drinking_water</th>\n",
       "      <th>historic</th>\n",
       "      <th>tourist_attraction</th>\n",
       "    </tr>\n",
       "  </thead>\n",
       "  <tbody>\n",
       "    <tr>\n",
       "      <th>0</th>\n",
       "      <td>2304.000000</td>\n",
       "      <td>149.333333</td>\n",
       "      <td>90.333333</td>\n",
       "      <td>57.666667</td>\n",
       "      <td>28.333333</td>\n",
       "      <td>31.333333</td>\n",
       "      <td>22.333333</td>\n",
       "      <td>9.000000</td>\n",
       "      <td>1.666667</td>\n",
       "      <td>0.666667</td>\n",
       "      <td>6.000000</td>\n",
       "      <td>0.666667</td>\n",
       "      <td>2.333333</td>\n",
       "      <td>2.333333</td>\n",
       "      <td>0.666667</td>\n",
       "      <td>1.000000</td>\n",
       "    </tr>\n",
       "    <tr>\n",
       "      <th>1</th>\n",
       "      <td>1212.357143</td>\n",
       "      <td>107.285714</td>\n",
       "      <td>37.857143</td>\n",
       "      <td>22.928571</td>\n",
       "      <td>9.500000</td>\n",
       "      <td>4.785714</td>\n",
       "      <td>6.000000</td>\n",
       "      <td>1.642857</td>\n",
       "      <td>1.642857</td>\n",
       "      <td>1.285714</td>\n",
       "      <td>1.571429</td>\n",
       "      <td>1.071429</td>\n",
       "      <td>1.642857</td>\n",
       "      <td>1.428571</td>\n",
       "      <td>0.357143</td>\n",
       "      <td>0.214286</td>\n",
       "    </tr>\n",
       "    <tr>\n",
       "      <th>2</th>\n",
       "      <td>671.250000</td>\n",
       "      <td>61.500000</td>\n",
       "      <td>23.500000</td>\n",
       "      <td>12.687500</td>\n",
       "      <td>5.062500</td>\n",
       "      <td>5.000000</td>\n",
       "      <td>4.687500</td>\n",
       "      <td>2.125000</td>\n",
       "      <td>1.375000</td>\n",
       "      <td>0.437500</td>\n",
       "      <td>1.000000</td>\n",
       "      <td>0.500000</td>\n",
       "      <td>0.312500</td>\n",
       "      <td>0.500000</td>\n",
       "      <td>0.125000</td>\n",
       "      <td>0.062500</td>\n",
       "    </tr>\n",
       "    <tr>\n",
       "      <th>3</th>\n",
       "      <td>180.616438</td>\n",
       "      <td>29.534247</td>\n",
       "      <td>8.232877</td>\n",
       "      <td>4.767123</td>\n",
       "      <td>1.931507</td>\n",
       "      <td>1.232877</td>\n",
       "      <td>1.739726</td>\n",
       "      <td>0.589041</td>\n",
       "      <td>0.575342</td>\n",
       "      <td>0.328767</td>\n",
       "      <td>0.369863</td>\n",
       "      <td>0.547945</td>\n",
       "      <td>0.397260</td>\n",
       "      <td>0.219178</td>\n",
       "      <td>0.191781</td>\n",
       "      <td>0.095890</td>\n",
       "    </tr>\n",
       "    <tr>\n",
       "      <th>4</th>\n",
       "      <td>21.923913</td>\n",
       "      <td>10.586957</td>\n",
       "      <td>2.083333</td>\n",
       "      <td>1.047101</td>\n",
       "      <td>0.402174</td>\n",
       "      <td>0.224638</td>\n",
       "      <td>0.242754</td>\n",
       "      <td>0.101449</td>\n",
       "      <td>0.282609</td>\n",
       "      <td>0.275362</td>\n",
       "      <td>0.094203</td>\n",
       "      <td>0.105072</td>\n",
       "      <td>0.050725</td>\n",
       "      <td>0.068841</td>\n",
       "      <td>0.050725</td>\n",
       "      <td>0.050725</td>\n",
       "    </tr>\n",
       "    <tr>\n",
       "      <th>5</th>\n",
       "      <td>393.104167</td>\n",
       "      <td>56.437500</td>\n",
       "      <td>13.958333</td>\n",
       "      <td>8.250000</td>\n",
       "      <td>3.229167</td>\n",
       "      <td>3.166667</td>\n",
       "      <td>2.541667</td>\n",
       "      <td>1.166667</td>\n",
       "      <td>0.437500</td>\n",
       "      <td>0.791667</td>\n",
       "      <td>0.562500</td>\n",
       "      <td>0.562500</td>\n",
       "      <td>0.583333</td>\n",
       "      <td>0.375000</td>\n",
       "      <td>0.250000</td>\n",
       "      <td>0.250000</td>\n",
       "    </tr>\n",
       "  </tbody>\n",
       "</table>\n",
       "</div>"
      ],
      "text/plain": [
       "          tree       bench restaurant       cafe        atm convenience  \\\n",
       "0  2304.000000  149.333333  90.333333  57.666667  28.333333   31.333333   \n",
       "1  1212.357143  107.285714  37.857143  22.928571   9.500000    4.785714   \n",
       "2   671.250000   61.500000  23.500000  12.687500   5.062500    5.000000   \n",
       "3   180.616438   29.534247   8.232877   4.767123   1.931507    1.232877   \n",
       "4    21.923913   10.586957   2.083333   1.047101   0.402174    0.224638   \n",
       "5   393.104167   56.437500  13.958333   8.250000   3.229167    3.166667   \n",
       "\n",
       "         bar ice_cream    picnic viewpoint   gallery    museum nightclub  \\\n",
       "0  22.333333  9.000000  1.666667  0.666667  6.000000  0.666667  2.333333   \n",
       "1   6.000000  1.642857  1.642857  1.285714  1.571429  1.071429  1.642857   \n",
       "2   4.687500  2.125000  1.375000  0.437500  1.000000  0.500000  0.312500   \n",
       "3   1.739726  0.589041  0.575342  0.328767  0.369863  0.547945  0.397260   \n",
       "4   0.242754  0.101449  0.282609  0.275362  0.094203  0.105072  0.050725   \n",
       "5   2.541667  1.166667  0.437500  0.791667  0.562500  0.562500  0.583333   \n",
       "\n",
       "  drinking_water  historic tourist_attraction  \n",
       "0       2.333333  0.666667           1.000000  \n",
       "1       1.428571  0.357143           0.214286  \n",
       "2       0.500000  0.125000           0.062500  \n",
       "3       0.219178  0.191781           0.095890  \n",
       "4       0.068841  0.050725           0.050725  \n",
       "5       0.375000  0.250000           0.250000  "
      ]
     },
     "execution_count": 22,
     "metadata": {},
     "output_type": "execute_result"
    }
   ],
   "source": [
    "# Assigning the found cluster centres to each feature\n",
    "cluster_centers = pd.DataFrame(data=kmeans.cluster_centers_, columns = [df_poicount.columns[3:]])\n",
    "cluster_centers"
   ]
  },
  {
   "cell_type": "code",
   "execution_count": 25,
   "metadata": {},
   "outputs": [
    {
     "name": "stdout",
     "output_type": "stream",
     "text": [
      "Obviously, \"cluster [4] \" stands out for its high procimity to 0! It is the largest cluster and closest to the dense centre. It contains routes that pass by only few points of interest.\n"
     ]
    }
   ],
   "source": [
    "# Comments on the cluster dataframe\n",
    "max_value = max(dict(zip(unique, counts)).values())\n",
    "max_keys = [k for k, v in dict(zip(unique, counts)).items() if v == max_value]\n",
    "print('Obviously, \"cluster', max_keys, '\" stands out for its high procimity to 0! It is the largest cluster and closest to the dense centre. It contains routes that pass by only few points of interest.')"
   ]
  },
  {
   "cell_type": "markdown",
   "metadata": {},
   "source": [
    "Since 80% of the features are trees, k-Means clusters the routes almost only regarding their number of trees. It was rather intended to find clusters based on the TYPES of features along the routes. We aimed to find the \"cafe and benches\" routes, the \"trees and nature\" routes, the \"bars, nightclubs and atms\" routes, and so on."
   ]
  },
  {
   "cell_type": "markdown",
   "metadata": {},
   "source": [
    "Because in our data the routes have a very huge variance regarding their number of points of interest they pass by (also see the visualisations in the visualisations folder), we tested if a row wise standardisation of the values would help that."
   ]
  },
  {
   "cell_type": "code",
   "execution_count": 24,
   "metadata": {},
   "outputs": [
    {
     "data": {
      "text/plain": [
       "count     430.000000\n",
       "mean      211.869767\n",
       "std       369.018893\n",
       "min         1.000000\n",
       "25%        14.000000\n",
       "50%        62.000000\n",
       "75%       256.250000\n",
       "max      3171.000000\n",
       "Name: poi, dtype: float64"
      ]
     },
     "execution_count": 24,
     "metadata": {},
     "output_type": "execute_result"
    }
   ],
   "source": [
    "# Displaying information on the variance in number of points of interest found for each route (consider the std)\n",
    "df_poicount['poi'].describe()"
   ]
  },
  {
   "cell_type": "markdown",
   "metadata": {},
   "source": [
    "However, standardising on axis = 0 (not shown here) did even seem to make it worse (reasons are explained in that [blog post](https://www.r-bloggers.com/2015/05/centering-and-standardizing-dont-confuse-your-rows-with-your-columns/))."
   ]
  },
  {
   "cell_type": "markdown",
   "metadata": {},
   "source": [
    "Inspecting clusters from unstandardised k-Means approach a bit more:"
   ]
  },
  {
   "cell_type": "code",
   "execution_count": 26,
   "metadata": {},
   "outputs": [
    {
     "data": {
      "text/html": [
       "<div>\n",
       "<style scoped>\n",
       "    .dataframe tbody tr th:only-of-type {\n",
       "        vertical-align: middle;\n",
       "    }\n",
       "\n",
       "    .dataframe tbody tr th {\n",
       "        vertical-align: top;\n",
       "    }\n",
       "\n",
       "    .dataframe thead th {\n",
       "        text-align: right;\n",
       "    }\n",
       "</style>\n",
       "<table border=\"1\" class=\"dataframe\">\n",
       "  <thead>\n",
       "    <tr style=\"text-align: right;\">\n",
       "      <th></th>\n",
       "      <th>route_id</th>\n",
       "      <th>wp</th>\n",
       "      <th>poi</th>\n",
       "      <th>tree</th>\n",
       "      <th>bench</th>\n",
       "      <th>restaurant</th>\n",
       "      <th>cafe</th>\n",
       "      <th>atm</th>\n",
       "      <th>convenience</th>\n",
       "      <th>bar</th>\n",
       "      <th>ice_cream</th>\n",
       "      <th>picnic</th>\n",
       "      <th>viewpoint</th>\n",
       "      <th>gallery</th>\n",
       "      <th>museum</th>\n",
       "      <th>nightclub</th>\n",
       "      <th>drinking_water</th>\n",
       "      <th>historic</th>\n",
       "      <th>tourist_attraction</th>\n",
       "      <th>cluster</th>\n",
       "    </tr>\n",
       "  </thead>\n",
       "  <tbody>\n",
       "    <tr>\n",
       "      <th>0</th>\n",
       "      <td>3503503</td>\n",
       "      <td>8</td>\n",
       "      <td>14</td>\n",
       "      <td>14</td>\n",
       "      <td>0</td>\n",
       "      <td>0</td>\n",
       "      <td>0</td>\n",
       "      <td>0</td>\n",
       "      <td>0</td>\n",
       "      <td>0</td>\n",
       "      <td>0</td>\n",
       "      <td>0</td>\n",
       "      <td>0</td>\n",
       "      <td>0</td>\n",
       "      <td>0</td>\n",
       "      <td>0</td>\n",
       "      <td>0</td>\n",
       "      <td>0</td>\n",
       "      <td>0</td>\n",
       "      <td>4</td>\n",
       "    </tr>\n",
       "    <tr>\n",
       "      <th>1</th>\n",
       "      <td>2713522</td>\n",
       "      <td>8</td>\n",
       "      <td>2</td>\n",
       "      <td>0</td>\n",
       "      <td>2</td>\n",
       "      <td>0</td>\n",
       "      <td>0</td>\n",
       "      <td>0</td>\n",
       "      <td>0</td>\n",
       "      <td>0</td>\n",
       "      <td>0</td>\n",
       "      <td>0</td>\n",
       "      <td>0</td>\n",
       "      <td>0</td>\n",
       "      <td>0</td>\n",
       "      <td>0</td>\n",
       "      <td>0</td>\n",
       "      <td>0</td>\n",
       "      <td>0</td>\n",
       "      <td>4</td>\n",
       "    </tr>\n",
       "    <tr>\n",
       "      <th>2</th>\n",
       "      <td>3503504</td>\n",
       "      <td>8</td>\n",
       "      <td>9</td>\n",
       "      <td>9</td>\n",
       "      <td>0</td>\n",
       "      <td>0</td>\n",
       "      <td>0</td>\n",
       "      <td>0</td>\n",
       "      <td>0</td>\n",
       "      <td>0</td>\n",
       "      <td>0</td>\n",
       "      <td>0</td>\n",
       "      <td>0</td>\n",
       "      <td>0</td>\n",
       "      <td>0</td>\n",
       "      <td>0</td>\n",
       "      <td>0</td>\n",
       "      <td>0</td>\n",
       "      <td>0</td>\n",
       "      <td>4</td>\n",
       "    </tr>\n",
       "    <tr>\n",
       "      <th>3</th>\n",
       "      <td>3568200</td>\n",
       "      <td>8</td>\n",
       "      <td>18</td>\n",
       "      <td>18</td>\n",
       "      <td>0</td>\n",
       "      <td>0</td>\n",
       "      <td>0</td>\n",
       "      <td>0</td>\n",
       "      <td>0</td>\n",
       "      <td>0</td>\n",
       "      <td>0</td>\n",
       "      <td>0</td>\n",
       "      <td>0</td>\n",
       "      <td>0</td>\n",
       "      <td>0</td>\n",
       "      <td>0</td>\n",
       "      <td>0</td>\n",
       "      <td>0</td>\n",
       "      <td>0</td>\n",
       "      <td>4</td>\n",
       "    </tr>\n",
       "    <tr>\n",
       "      <th>4</th>\n",
       "      <td>3573326</td>\n",
       "      <td>9</td>\n",
       "      <td>2</td>\n",
       "      <td>0</td>\n",
       "      <td>0</td>\n",
       "      <td>2</td>\n",
       "      <td>0</td>\n",
       "      <td>0</td>\n",
       "      <td>0</td>\n",
       "      <td>0</td>\n",
       "      <td>0</td>\n",
       "      <td>0</td>\n",
       "      <td>0</td>\n",
       "      <td>0</td>\n",
       "      <td>0</td>\n",
       "      <td>0</td>\n",
       "      <td>0</td>\n",
       "      <td>0</td>\n",
       "      <td>0</td>\n",
       "      <td>4</td>\n",
       "    </tr>\n",
       "  </tbody>\n",
       "</table>\n",
       "</div>"
      ],
      "text/plain": [
       "   route_id  wp  poi  tree  bench  restaurant  cafe  atm  convenience  bar  \\\n",
       "0   3503503   8   14    14      0           0     0    0            0    0   \n",
       "1   2713522   8    2     0      2           0     0    0            0    0   \n",
       "2   3503504   8    9     9      0           0     0    0            0    0   \n",
       "3   3568200   8   18    18      0           0     0    0            0    0   \n",
       "4   3573326   9    2     0      0           2     0    0            0    0   \n",
       "\n",
       "   ice_cream  picnic  viewpoint  gallery  museum  nightclub  drinking_water  \\\n",
       "0          0       0          0        0       0          0               0   \n",
       "1          0       0          0        0       0          0               0   \n",
       "2          0       0          0        0       0          0               0   \n",
       "3          0       0          0        0       0          0               0   \n",
       "4          0       0          0        0       0          0               0   \n",
       "\n",
       "   historic  tourist_attraction  cluster  \n",
       "0         0                   0        4  \n",
       "1         0                   0        4  \n",
       "2         0                   0        4  \n",
       "3         0                   0        4  \n",
       "4         0                   0        4  "
      ]
     },
     "execution_count": 26,
     "metadata": {},
     "output_type": "execute_result"
    }
   ],
   "source": [
    "# Mapping our labels into our dataframe (each route gets a cluster label)\n",
    "df_poicount_cluster = pd.concat([df_poicount, pd.DataFrame({'cluster':label})], join='inner', axis=1)\n",
    "df_poicount_cluster.head()"
   ]
  },
  {
   "cell_type": "code",
   "execution_count": 28,
   "metadata": {},
   "outputs": [
    {
     "data": {
      "text/html": [
       "<div>\n",
       "<style scoped>\n",
       "    .dataframe tbody tr th:only-of-type {\n",
       "        vertical-align: middle;\n",
       "    }\n",
       "\n",
       "    .dataframe tbody tr th {\n",
       "        vertical-align: top;\n",
       "    }\n",
       "\n",
       "    .dataframe thead th {\n",
       "        text-align: right;\n",
       "    }\n",
       "</style>\n",
       "<table border=\"1\" class=\"dataframe\">\n",
       "  <thead>\n",
       "    <tr style=\"text-align: right;\">\n",
       "      <th></th>\n",
       "      <th>route_id</th>\n",
       "      <th>wp</th>\n",
       "      <th>poi</th>\n",
       "      <th>tree</th>\n",
       "      <th>bench</th>\n",
       "      <th>restaurant</th>\n",
       "      <th>cafe</th>\n",
       "      <th>atm</th>\n",
       "      <th>convenience</th>\n",
       "      <th>bar</th>\n",
       "      <th>ice_cream</th>\n",
       "      <th>picnic</th>\n",
       "      <th>viewpoint</th>\n",
       "      <th>gallery</th>\n",
       "      <th>museum</th>\n",
       "      <th>nightclub</th>\n",
       "      <th>drinking_water</th>\n",
       "      <th>historic</th>\n",
       "      <th>tourist_attraction</th>\n",
       "      <th>cluster</th>\n",
       "    </tr>\n",
       "  </thead>\n",
       "  <tbody>\n",
       "    <tr>\n",
       "      <th>365</th>\n",
       "      <td>3670488</td>\n",
       "      <td>765</td>\n",
       "      <td>2355</td>\n",
       "      <td>1907</td>\n",
       "      <td>270</td>\n",
       "      <td>60</td>\n",
       "      <td>33</td>\n",
       "      <td>24</td>\n",
       "      <td>24</td>\n",
       "      <td>20</td>\n",
       "      <td>5</td>\n",
       "      <td>5</td>\n",
       "      <td>0</td>\n",
       "      <td>2</td>\n",
       "      <td>0</td>\n",
       "      <td>1</td>\n",
       "      <td>3</td>\n",
       "      <td>1</td>\n",
       "      <td>0</td>\n",
       "      <td>0</td>\n",
       "    </tr>\n",
       "    <tr>\n",
       "      <th>367</th>\n",
       "      <td>3547573</td>\n",
       "      <td>861</td>\n",
       "      <td>3171</td>\n",
       "      <td>2802</td>\n",
       "      <td>79</td>\n",
       "      <td>103</td>\n",
       "      <td>88</td>\n",
       "      <td>26</td>\n",
       "      <td>28</td>\n",
       "      <td>17</td>\n",
       "      <td>19</td>\n",
       "      <td>0</td>\n",
       "      <td>0</td>\n",
       "      <td>9</td>\n",
       "      <td>0</td>\n",
       "      <td>0</td>\n",
       "      <td>0</td>\n",
       "      <td>0</td>\n",
       "      <td>0</td>\n",
       "      <td>0</td>\n",
       "    </tr>\n",
       "    <tr>\n",
       "      <th>424</th>\n",
       "      <td>2379991</td>\n",
       "      <td>2425</td>\n",
       "      <td>2597</td>\n",
       "      <td>2203</td>\n",
       "      <td>99</td>\n",
       "      <td>108</td>\n",
       "      <td>52</td>\n",
       "      <td>35</td>\n",
       "      <td>42</td>\n",
       "      <td>30</td>\n",
       "      <td>3</td>\n",
       "      <td>0</td>\n",
       "      <td>2</td>\n",
       "      <td>7</td>\n",
       "      <td>2</td>\n",
       "      <td>6</td>\n",
       "      <td>4</td>\n",
       "      <td>1</td>\n",
       "      <td>3</td>\n",
       "      <td>0</td>\n",
       "    </tr>\n",
       "  </tbody>\n",
       "</table>\n",
       "</div>"
      ],
      "text/plain": [
       "     route_id    wp   poi  tree  bench  restaurant  cafe  atm  convenience  \\\n",
       "365   3670488   765  2355  1907    270          60    33   24           24   \n",
       "367   3547573   861  3171  2802     79         103    88   26           28   \n",
       "424   2379991  2425  2597  2203     99         108    52   35           42   \n",
       "\n",
       "     bar  ice_cream  picnic  viewpoint  gallery  museum  nightclub  \\\n",
       "365   20          5       5          0        2       0          1   \n",
       "367   17         19       0          0        9       0          0   \n",
       "424   30          3       0          2        7       2          6   \n",
       "\n",
       "     drinking_water  historic  tourist_attraction  cluster  \n",
       "365               3         1                   0        0  \n",
       "367               0         0                   0        0  \n",
       "424               4         1                   3        0  "
      ]
     },
     "execution_count": 28,
     "metadata": {},
     "output_type": "execute_result"
    }
   ],
   "source": [
    "# Inspecting clusters\n",
    "df_clusterinspect = df_poicount_cluster[df_poicount_cluster['cluster'] == 0] # substituting the cluster we're interested in\n",
    "df_clusterinspect\n"
   ]
  },
  {
   "cell_type": "code",
   "execution_count": 29,
   "metadata": {},
   "outputs": [
    {
     "name": "stdout",
     "output_type": "stream",
     "text": [
      "Observations from inspecting the clusters:\n",
      "Cluster 0 : All routes have similar amount of trees: mean around 2304.0\n",
      "Cluster 1 : All routes have similar amount of trees: mean around 1212.357142857143\n",
      "Cluster 2 : All routes have similar amount of trees: mean around 671.25\n",
      "Cluster 3 : All routes have similar amount of trees: mean around 180.6164383561644\n",
      "Cluster 4 : All routes have similar amount of trees: mean around 21.92391304347826\n",
      "Cluster 5 : All routes have similar amount of trees: mean around 393.1041666666667\n"
     ]
    }
   ],
   "source": [
    "# Printing some impressions from inspecting the clusters\n",
    "print('Observations from inspecting the clusters:')\n",
    "for ele in np.unique(label):\n",
    "    print('Cluster', np.unique(label)[ele], ': All routes have similar amount of trees: mean around', \n",
    "    df_poicount_cluster[df_poicount_cluster['cluster'] == np.unique(label)[ele]]['tree'].mean())"
   ]
  },
  {
   "cell_type": "markdown",
   "metadata": {},
   "source": [
    "The number of trees seem the be the only real distinction in the data, while all the 0s in the other 15 columns, tear the whole data down to a single, dense centre."
   ]
  },
  {
   "cell_type": "markdown",
   "metadata": {},
   "source": [
    "The danger of reducing the clustering to almost one feature is also confirmed by the following PCA:"
   ]
  },
  {
   "cell_type": "markdown",
   "metadata": {},
   "source": [
    "Principal Component Analysis and plotting in 2D\n",
    "-----------------------"
   ]
  },
  {
   "cell_type": "code",
   "execution_count": 30,
   "metadata": {},
   "outputs": [
    {
     "data": {
      "text/html": [
       "<div>\n",
       "<style scoped>\n",
       "    .dataframe tbody tr th:only-of-type {\n",
       "        vertical-align: middle;\n",
       "    }\n",
       "\n",
       "    .dataframe tbody tr th {\n",
       "        vertical-align: top;\n",
       "    }\n",
       "\n",
       "    .dataframe thead th {\n",
       "        text-align: right;\n",
       "    }\n",
       "</style>\n",
       "<table border=\"1\" class=\"dataframe\">\n",
       "  <thead>\n",
       "    <tr style=\"text-align: right;\">\n",
       "      <th></th>\n",
       "      <th>pca1</th>\n",
       "      <th>pca2</th>\n",
       "      <th>cluster</th>\n",
       "    </tr>\n",
       "  </thead>\n",
       "  <tbody>\n",
       "    <tr>\n",
       "      <th>0</th>\n",
       "      <td>-460507.846333</td>\n",
       "      <td>-530.873509</td>\n",
       "      <td>4</td>\n",
       "    </tr>\n",
       "    <tr>\n",
       "      <th>1</th>\n",
       "      <td>329473.150824</td>\n",
       "      <td>-463.965885</td>\n",
       "      <td>4</td>\n",
       "    </tr>\n",
       "    <tr>\n",
       "      <th>2</th>\n",
       "      <td>-460508.846008</td>\n",
       "      <td>-534.464516</td>\n",
       "      <td>4</td>\n",
       "    </tr>\n",
       "    <tr>\n",
       "      <th>3</th>\n",
       "      <td>-525204.846291</td>\n",
       "      <td>-534.235319</td>\n",
       "      <td>4</td>\n",
       "    </tr>\n",
       "    <tr>\n",
       "      <th>4</th>\n",
       "      <td>-530330.845254</td>\n",
       "      <td>-545.998410</td>\n",
       "      <td>4</td>\n",
       "    </tr>\n",
       "  </tbody>\n",
       "</table>\n",
       "</div>"
      ],
      "text/plain": [
       "            pca1        pca2  cluster\n",
       "0 -460507.846333 -530.873509        4\n",
       "1  329473.150824 -463.965885        4\n",
       "2 -460508.846008 -534.464516        4\n",
       "3 -525204.846291 -534.235319        4\n",
       "4 -530330.845254 -545.998410        4"
      ]
     },
     "execution_count": 30,
     "metadata": {},
     "output_type": "execute_result"
    }
   ],
   "source": [
    "# Principal Component Analysis\n",
    "pca = PCA(n_components=2)\n",
    "principal_comp = pca.fit_transform(df_poicount)     # substitude df_poistand if needed\n",
    "pca_df = pd.DataFrame(data=principal_comp,columns=['pca1','pca2'])\n",
    "pca_df = pd.concat([pca_df,pd.DataFrame({'cluster':label})],axis=1)\n",
    "pca_df.head()"
   ]
  },
  {
   "cell_type": "code",
   "execution_count": 31,
   "metadata": {},
   "outputs": [
    {
     "data": {
      "image/png": "[encoded data removed]",
      "text/plain": [
       "<Figure size 360x360 with 1 Axes>"
      ]
     },
     "metadata": {},
     "output_type": "display_data"
    }
   ],
   "source": [
    "# Scatterplot of our clusters, reduced to two dimensions\n",
    "plt.figure(figsize=(5,5))\n",
    "ax= sns.scatterplot(x='pca1', y='pca2', hue='cluster', data=pca_df, palette='tab20')\n",
    "plt.show()"
   ]
  },
  {
   "cell_type": "markdown",
   "metadata": {},
   "source": [
    "The clusters don't look spheric and (even worse) they are overlapping, caused by pretty large variances."
   ]
  },
  {
   "cell_type": "markdown",
   "metadata": {},
   "source": [
    "Variances among features (PCA components)\n",
    "-----"
   ]
  },
  {
   "cell_type": "code",
   "execution_count": 33,
   "metadata": {},
   "outputs": [
    {
     "data": {
      "image/png": "[encoded data removed]",
      "text/plain": [
       "<Figure size 432x288 with 1 Axes>"
      ]
     },
     "metadata": {},
     "output_type": "display_data"
    }
   ],
   "source": [
    "# Standardising and plotting the variances of the features\n",
    "X_std = StandardScaler().fit_transform(df_poicount.iloc[:, 3:])  # substitude df_poicount if needed\n",
    "pca = PCA(n_components=16)\n",
    "\n",
    "principalComponents = pca.fit_transform(X_std)\n",
    "features = range(pca.n_components_)\n",
    "\n",
    "plt.bar(features, pca.explained_variance_ratio_, color='black')\n",
    "plt.xlabel('PCA features')\n",
    "plt.ylabel('variance %')\n",
    "plt.xticks(features)\n",
    "\n",
    "\n",
    "PCA_components = pd.DataFrame(principalComponents)"
   ]
  },
  {
   "cell_type": "markdown",
   "metadata": {},
   "source": [
    "The data is as such, that it would even be admissible to reduce it to one dimension (which we know is the number of trees)."
   ]
  },
  {
   "cell_type": "code",
   "execution_count": 34,
   "metadata": {},
   "outputs": [
    {
     "data": {
      "text/plain": [
       "Text(0, 0.5, 'PCA 2')"
      ]
     },
     "execution_count": 34,
     "metadata": {},
     "output_type": "execute_result"
    },
    {
     "data": {
      "image/png": "[encoded data removed]",
      "text/plain": [
       "<Figure size 432x288 with 1 Axes>"
      ]
     },
     "metadata": {},
     "output_type": "display_data"
    }
   ],
   "source": [
    "# Plotting the most influencial two features\n",
    "plt.scatter(PCA_components[0], PCA_components[1], alpha= 0.1, color='black')\n",
    "plt.xlabel('PCA 1')\n",
    "plt.ylabel('PCA 2')"
   ]
  },
  {
   "cell_type": "markdown",
   "metadata": {},
   "source": [
    "Even the two most influencial features would map most datapoints into one dense centre."
   ]
  },
  {
   "cell_type": "markdown",
   "metadata": {},
   "source": [
    "Standardisation on axis = 1\n",
    "-------"
   ]
  },
  {
   "cell_type": "markdown",
   "metadata": {},
   "source": [
    "In order to gather insights from the clusters about what distinct points of interest clustered routes pass by, we need to standardise the feature values first, column wise."
   ]
  },
  {
   "cell_type": "code",
   "execution_count": 37,
   "metadata": {},
   "outputs": [],
   "source": [
    "# Loading extracted poicount data and making it easy to work with                            --> delete cell?\n",
    "df_poicount = pd.read_csv('category_count_per_route.csv')\n",
    "df_poicount.fillna(0, inplace = True) # replacing NaN values with 0s, because having counted no poi in fact IS 0\n",
    "df_poicount = df_poicount.apply(np.int64)\n",
    "df_poicount.rename(columns={\"wp_count\": \"wp\", \"poi_count\": \"poi\", \"tree_count\": \"tree\", \"bench_count\": \"bench\", \"bench_count.1\": \"restaurant\", \"cafe_count\": \"cafe\", \"atm_count\": \"atm\", \"convenience_count\": \"convenience\", \"bar_count\": \"bar\", \"ice_cream_count\": \"ice_cream\", \"picnic_table_count\": \"picnic\", \"viewpoint_count\": \"viewpoint\", \"gallery_count\": \"gallery\", \"museum_count\": \"museum\", \"nightclub_count\": \"nightclub\", \"drinking_water_count\": \"drinking_water\", \"historic_count\": \"historic\", \"tourist_attraction_count\": \"tourist_attraction\"}, inplace=True)"
   ]
  },
  {
   "cell_type": "code",
   "execution_count": 39,
   "metadata": {},
   "outputs": [
    {
     "data": {
      "text/html": [
       "<div>\n",
       "<style scoped>\n",
       "    .dataframe tbody tr th:only-of-type {\n",
       "        vertical-align: middle;\n",
       "    }\n",
       "\n",
       "    .dataframe tbody tr th {\n",
       "        vertical-align: top;\n",
       "    }\n",
       "\n",
       "    .dataframe thead th {\n",
       "        text-align: right;\n",
       "    }\n",
       "</style>\n",
       "<table border=\"1\" class=\"dataframe\">\n",
       "  <thead>\n",
       "    <tr style=\"text-align: right;\">\n",
       "      <th></th>\n",
       "      <th>route_id</th>\n",
       "      <th>wp</th>\n",
       "      <th>poi</th>\n",
       "      <th>tree</th>\n",
       "      <th>bench</th>\n",
       "      <th>restaurant</th>\n",
       "      <th>cafe</th>\n",
       "      <th>atm</th>\n",
       "      <th>convenience</th>\n",
       "      <th>bar</th>\n",
       "      <th>ice_cream</th>\n",
       "      <th>picnic</th>\n",
       "      <th>viewpoint</th>\n",
       "      <th>gallery</th>\n",
       "      <th>museum</th>\n",
       "      <th>nightclub</th>\n",
       "      <th>drinking_water</th>\n",
       "      <th>historic</th>\n",
       "      <th>tourist_attraction</th>\n",
       "    </tr>\n",
       "  </thead>\n",
       "  <tbody>\n",
       "    <tr>\n",
       "      <th>0</th>\n",
       "      <td>3503503</td>\n",
       "      <td>8</td>\n",
       "      <td>14</td>\n",
       "      <td>-0.490473</td>\n",
       "      <td>-0.661214</td>\n",
       "      <td>-0.528217</td>\n",
       "      <td>-0.478947</td>\n",
       "      <td>-0.430885</td>\n",
       "      <td>-0.362437</td>\n",
       "      <td>-0.406891</td>\n",
       "      <td>-0.367831</td>\n",
       "      <td>-0.36249</td>\n",
       "      <td>-0.379029</td>\n",
       "      <td>-0.294444</td>\n",
       "      <td>-0.3018</td>\n",
       "      <td>-0.291943</td>\n",
       "      <td>-0.348438</td>\n",
       "      <td>-0.264851</td>\n",
       "      <td>-0.271723</td>\n",
       "    </tr>\n",
       "    <tr>\n",
       "      <th>1</th>\n",
       "      <td>2713522</td>\n",
       "      <td>8</td>\n",
       "      <td>2</td>\n",
       "      <td>-0.534734</td>\n",
       "      <td>-0.608174</td>\n",
       "      <td>-0.528217</td>\n",
       "      <td>-0.478947</td>\n",
       "      <td>-0.430885</td>\n",
       "      <td>-0.362437</td>\n",
       "      <td>-0.406891</td>\n",
       "      <td>-0.367831</td>\n",
       "      <td>-0.36249</td>\n",
       "      <td>-0.379029</td>\n",
       "      <td>-0.294444</td>\n",
       "      <td>-0.3018</td>\n",
       "      <td>-0.291943</td>\n",
       "      <td>-0.348438</td>\n",
       "      <td>-0.264851</td>\n",
       "      <td>-0.271723</td>\n",
       "    </tr>\n",
       "    <tr>\n",
       "      <th>2</th>\n",
       "      <td>3503504</td>\n",
       "      <td>8</td>\n",
       "      <td>9</td>\n",
       "      <td>-0.506281</td>\n",
       "      <td>-0.661214</td>\n",
       "      <td>-0.528217</td>\n",
       "      <td>-0.478947</td>\n",
       "      <td>-0.430885</td>\n",
       "      <td>-0.362437</td>\n",
       "      <td>-0.406891</td>\n",
       "      <td>-0.367831</td>\n",
       "      <td>-0.36249</td>\n",
       "      <td>-0.379029</td>\n",
       "      <td>-0.294444</td>\n",
       "      <td>-0.3018</td>\n",
       "      <td>-0.291943</td>\n",
       "      <td>-0.348438</td>\n",
       "      <td>-0.264851</td>\n",
       "      <td>-0.271723</td>\n",
       "    </tr>\n",
       "    <tr>\n",
       "      <th>3</th>\n",
       "      <td>3568200</td>\n",
       "      <td>8</td>\n",
       "      <td>18</td>\n",
       "      <td>-0.477827</td>\n",
       "      <td>-0.661214</td>\n",
       "      <td>-0.528217</td>\n",
       "      <td>-0.478947</td>\n",
       "      <td>-0.430885</td>\n",
       "      <td>-0.362437</td>\n",
       "      <td>-0.406891</td>\n",
       "      <td>-0.367831</td>\n",
       "      <td>-0.36249</td>\n",
       "      <td>-0.379029</td>\n",
       "      <td>-0.294444</td>\n",
       "      <td>-0.3018</td>\n",
       "      <td>-0.291943</td>\n",
       "      <td>-0.348438</td>\n",
       "      <td>-0.264851</td>\n",
       "      <td>-0.271723</td>\n",
       "    </tr>\n",
       "    <tr>\n",
       "      <th>4</th>\n",
       "      <td>3573326</td>\n",
       "      <td>9</td>\n",
       "      <td>2</td>\n",
       "      <td>-0.534734</td>\n",
       "      <td>-0.661214</td>\n",
       "      <td>-0.377947</td>\n",
       "      <td>-0.478947</td>\n",
       "      <td>-0.430885</td>\n",
       "      <td>-0.362437</td>\n",
       "      <td>-0.406891</td>\n",
       "      <td>-0.367831</td>\n",
       "      <td>-0.36249</td>\n",
       "      <td>-0.379029</td>\n",
       "      <td>-0.294444</td>\n",
       "      <td>-0.3018</td>\n",
       "      <td>-0.291943</td>\n",
       "      <td>-0.348438</td>\n",
       "      <td>-0.264851</td>\n",
       "      <td>-0.271723</td>\n",
       "    </tr>\n",
       "  </tbody>\n",
       "</table>\n",
       "</div>"
      ],
      "text/plain": [
       "   route_id  wp  poi      tree     bench  restaurant      cafe       atm  \\\n",
       "0   3503503   8   14 -0.490473 -0.661214   -0.528217 -0.478947 -0.430885   \n",
       "1   2713522   8    2 -0.534734 -0.608174   -0.528217 -0.478947 -0.430885   \n",
       "2   3503504   8    9 -0.506281 -0.661214   -0.528217 -0.478947 -0.430885   \n",
       "3   3568200   8   18 -0.477827 -0.661214   -0.528217 -0.478947 -0.430885   \n",
       "4   3573326   9    2 -0.534734 -0.661214   -0.377947 -0.478947 -0.430885   \n",
       "\n",
       "   convenience       bar  ice_cream   picnic  viewpoint   gallery  museum  \\\n",
       "0    -0.362437 -0.406891  -0.367831 -0.36249  -0.379029 -0.294444 -0.3018   \n",
       "1    -0.362437 -0.406891  -0.367831 -0.36249  -0.379029 -0.294444 -0.3018   \n",
       "2    -0.362437 -0.406891  -0.367831 -0.36249  -0.379029 -0.294444 -0.3018   \n",
       "3    -0.362437 -0.406891  -0.367831 -0.36249  -0.379029 -0.294444 -0.3018   \n",
       "4    -0.362437 -0.406891  -0.367831 -0.36249  -0.379029 -0.294444 -0.3018   \n",
       "\n",
       "   nightclub  drinking_water  historic  tourist_attraction  \n",
       "0  -0.291943       -0.348438 -0.264851           -0.271723  \n",
       "1  -0.291943       -0.348438 -0.264851           -0.271723  \n",
       "2  -0.291943       -0.348438 -0.264851           -0.271723  \n",
       "3  -0.291943       -0.348438 -0.264851           -0.271723  \n",
       "4  -0.291943       -0.348438 -0.264851           -0.271723  "
      ]
     },
     "execution_count": 39,
     "metadata": {},
     "output_type": "execute_result"
    }
   ],
   "source": [
    "# Renaming, so df_poicount get's not messed with # get's messed with anyway, I cannot find why...\n",
    "df_poistand = df_poicount\n",
    "\n",
    "# Getting the columns we want to standardise\n",
    "df_columns = df_poistand[['tree', 'bench', 'restaurant', 'cafe', 'atm',\n",
    "       'convenience', 'bar', 'ice_cream', 'picnic', 'viewpoint', 'gallery',\n",
    "       'museum', 'nightclub', 'drinking_water', 'historic',\n",
    "       'tourist_attraction']]\n",
    "\n",
    "# Standardising the values for each variable\n",
    "df_poistand[['tree', 'bench', 'restaurant', 'cafe', 'atm',\n",
    "       'convenience', 'bar', 'ice_cream', 'picnic', 'viewpoint', 'gallery',\n",
    "       'museum', 'nightclub', 'drinking_water', 'historic',\n",
    "       'tourist_attraction']] = (df_columns-df_columns.mean())/df_columns.std()\n",
    "\n",
    "df_poistand.head()"
   ]
  },
  {
   "cell_type": "code",
   "execution_count": 40,
   "metadata": {},
   "outputs": [],
   "source": [
    "# Writing the standardised df in a new csv file\n",
    "df_poistand.to_csv(r'poistand.csv', index=False)"
   ]
  },
  {
   "cell_type": "code",
   "execution_count": 41,
   "metadata": {},
   "outputs": [],
   "source": [
    "# Reading poistand data in as numpy arrays\n",
    "poistand = np.genfromtxt('poistand.csv', delimiter=\",\", usecols=range(3, 19), skip_header=1)"
   ]
  },
  {
   "cell_type": "markdown",
   "metadata": {},
   "source": [
    "Running k-Means on standardised features"
   ]
  },
  {
   "cell_type": "code",
   "execution_count": 42,
   "metadata": {},
   "outputs": [],
   "source": [
    "# Initialising the KMeans class, running 50 times with a max of 500 interations each\n",
    "kmeans = KMeans(init=\"random\", n_clusters=6, n_init=50, max_iter=500)\n",
    "\n",
    "# Applying the KMeans class to our data: it returns that result with the smallest SSE\n",
    "kmeans.fit(poistand)\n",
    "\n",
    "# Getting lables for later mapping these to our dataframe\n",
    "label = kmeans.labels_"
   ]
  },
  {
   "cell_type": "code",
   "execution_count": 43,
   "metadata": {},
   "outputs": [
    {
     "data": {
      "text/plain": [
       "{0: 16, 1: 9, 2: 21, 3: 4, 4: 305, 5: 75}"
      ]
     },
     "execution_count": 43,
     "metadata": {},
     "output_type": "execute_result"
    }
   ],
   "source": [
    "# Checking how many times each label appears\n",
    "unique, counts = np.unique(kmeans.labels_, return_counts=True)\n",
    "dict(zip(unique, counts))"
   ]
  },
  {
   "cell_type": "code",
   "execution_count": 44,
   "metadata": {},
   "outputs": [
    {
     "data": {
      "text/html": [
       "<div>\n",
       "<style scoped>\n",
       "    .dataframe tbody tr th:only-of-type {\n",
       "        vertical-align: middle;\n",
       "    }\n",
       "\n",
       "    .dataframe tbody tr th {\n",
       "        vertical-align: top;\n",
       "    }\n",
       "\n",
       "    .dataframe thead tr th {\n",
       "        text-align: left;\n",
       "    }\n",
       "</style>\n",
       "<table border=\"1\" class=\"dataframe\">\n",
       "  <thead>\n",
       "    <tr>\n",
       "      <th></th>\n",
       "      <th>tree</th>\n",
       "      <th>bench</th>\n",
       "      <th>restaurant</th>\n",
       "      <th>cafe</th>\n",
       "      <th>atm</th>\n",
       "      <th>convenience</th>\n",
       "      <th>bar</th>\n",
       "      <th>ice_cream</th>\n",
       "      <th>picnic</th>\n",
       "      <th>viewpoint</th>\n",
       "      <th>gallery</th>\n",
       "      <th>museum</th>\n",
       "      <th>nightclub</th>\n",
       "      <th>drinking_water</th>\n",
       "      <th>historic</th>\n",
       "      <th>tourist_attraction</th>\n",
       "    </tr>\n",
       "  </thead>\n",
       "  <tbody>\n",
       "    <tr>\n",
       "      <th>0</th>\n",
       "      <td>1.876698</td>\n",
       "      <td>1.143811</td>\n",
       "      <td>3.073572</td>\n",
       "      <td>2.750138</td>\n",
       "      <td>2.669151</td>\n",
       "      <td>2.425667</td>\n",
       "      <td>2.760684</td>\n",
       "      <td>2.021547</td>\n",
       "      <td>0.657607</td>\n",
       "      <td>0.053122</td>\n",
       "      <td>2.731184</td>\n",
       "      <td>0.770713</td>\n",
       "      <td>1.706557</td>\n",
       "      <td>0.715684</td>\n",
       "      <td>0.461462</td>\n",
       "      <td>0.093405</td>\n",
       "    </tr>\n",
       "    <tr>\n",
       "      <th>1</th>\n",
       "      <td>1.687096</td>\n",
       "      <td>4.203754</td>\n",
       "      <td>0.582113</td>\n",
       "      <td>0.367593</td>\n",
       "      <td>0.035670</td>\n",
       "      <td>-0.076478</td>\n",
       "      <td>0.023523</td>\n",
       "      <td>0.048618</td>\n",
       "      <td>1.813717</td>\n",
       "      <td>4.230580</td>\n",
       "      <td>-0.294444</td>\n",
       "      <td>0.770713</td>\n",
       "      <td>-0.160354</td>\n",
       "      <td>1.543334</td>\n",
       "      <td>1.801106</td>\n",
       "      <td>0.377393</td>\n",
       "    </tr>\n",
       "    <tr>\n",
       "      <th>2</th>\n",
       "      <td>-0.143612</td>\n",
       "      <td>0.265727</td>\n",
       "      <td>-0.313546</td>\n",
       "      <td>-0.240858</td>\n",
       "      <td>-0.268424</td>\n",
       "      <td>-0.212649</td>\n",
       "      <td>-0.222428</td>\n",
       "      <td>-0.225049</td>\n",
       "      <td>2.979543</td>\n",
       "      <td>-0.237919</td>\n",
       "      <td>-0.161449</td>\n",
       "      <td>-0.199656</td>\n",
       "      <td>-0.235548</td>\n",
       "      <td>-0.105210</td>\n",
       "      <td>-0.154175</td>\n",
       "      <td>-0.132627</td>\n",
       "    </tr>\n",
       "    <tr>\n",
       "      <th>3</th>\n",
       "      <td>5.752695</td>\n",
       "      <td>2.746621</td>\n",
       "      <td>5.820700</td>\n",
       "      <td>6.128029</td>\n",
       "      <td>6.982957</td>\n",
       "      <td>6.929528</td>\n",
       "      <td>5.484396</td>\n",
       "      <td>5.441637</td>\n",
       "      <td>0.657607</td>\n",
       "      <td>0.608744</td>\n",
       "      <td>3.894887</td>\n",
       "      <td>1.843226</td>\n",
       "      <td>2.372724</td>\n",
       "      <td>4.333699</td>\n",
       "      <td>0.897250</td>\n",
       "      <td>2.649300</td>\n",
       "    </tr>\n",
       "    <tr>\n",
       "      <th>4</th>\n",
       "      <td>-0.345469</td>\n",
       "      <td>-0.347929</td>\n",
       "      <td>-0.363413</td>\n",
       "      <td>-0.353657</td>\n",
       "      <td>-0.306120</td>\n",
       "      <td>-0.293057</td>\n",
       "      <td>-0.347621</td>\n",
       "      <td>-0.269522</td>\n",
       "      <td>-0.266166</td>\n",
       "      <td>-0.116703</td>\n",
       "      <td>-0.236450</td>\n",
       "      <td>-0.196307</td>\n",
       "      <td>-0.249230</td>\n",
       "      <td>-0.220046</td>\n",
       "      <td>-0.158166</td>\n",
       "      <td>-0.166375</td>\n",
       "    </tr>\n",
       "    <tr>\n",
       "      <th>5</th>\n",
       "      <td>0.535496</td>\n",
       "      <td>0.445559</td>\n",
       "      <td>0.529685</td>\n",
       "      <td>0.548011</td>\n",
       "      <td>0.373922</td>\n",
       "      <td>0.373432</td>\n",
       "      <td>0.591669</td>\n",
       "      <td>0.431751</td>\n",
       "      <td>-0.144870</td>\n",
       "      <td>-0.010261</td>\n",
       "      <td>0.251721</td>\n",
       "      <td>0.499010</td>\n",
       "      <td>0.608122</td>\n",
       "      <td>0.355301</td>\n",
       "      <td>0.323947</td>\n",
       "      <td>0.507216</td>\n",
       "    </tr>\n",
       "  </tbody>\n",
       "</table>\n",
       "</div>"
      ],
      "text/plain": [
       "       tree     bench restaurant      cafe       atm convenience       bar  \\\n",
       "0  1.876698  1.143811   3.073572  2.750138  2.669151    2.425667  2.760684   \n",
       "1  1.687096  4.203754   0.582113  0.367593  0.035670   -0.076478  0.023523   \n",
       "2 -0.143612  0.265727  -0.313546 -0.240858 -0.268424   -0.212649 -0.222428   \n",
       "3  5.752695  2.746621   5.820700  6.128029  6.982957    6.929528  5.484396   \n",
       "4 -0.345469 -0.347929  -0.363413 -0.353657 -0.306120   -0.293057 -0.347621   \n",
       "5  0.535496  0.445559   0.529685  0.548011  0.373922    0.373432  0.591669   \n",
       "\n",
       "  ice_cream    picnic viewpoint   gallery    museum nightclub drinking_water  \\\n",
       "0  2.021547  0.657607  0.053122  2.731184  0.770713  1.706557       0.715684   \n",
       "1  0.048618  1.813717  4.230580 -0.294444  0.770713 -0.160354       1.543334   \n",
       "2 -0.225049  2.979543 -0.237919 -0.161449 -0.199656 -0.235548      -0.105210   \n",
       "3  5.441637  0.657607  0.608744  3.894887  1.843226  2.372724       4.333699   \n",
       "4 -0.269522 -0.266166 -0.116703 -0.236450 -0.196307 -0.249230      -0.220046   \n",
       "5  0.431751 -0.144870 -0.010261  0.251721  0.499010  0.608122       0.355301   \n",
       "\n",
       "   historic tourist_attraction  \n",
       "0  0.461462           0.093405  \n",
       "1  1.801106           0.377393  \n",
       "2 -0.154175          -0.132627  \n",
       "3  0.897250           2.649300  \n",
       "4 -0.158166          -0.166375  \n",
       "5  0.323947           0.507216  "
      ]
     },
     "execution_count": 44,
     "metadata": {},
     "output_type": "execute_result"
    }
   ],
   "source": [
    "# Assigning the found cluster centres to each feature\n",
    "cluster_centers = pd.DataFrame(data=kmeans.cluster_centers_, columns = [df_poicount.columns[3:]])\n",
    "cluster_centers"
   ]
  },
  {
   "cell_type": "markdown",
   "metadata": {},
   "source": [
    "From eye inspection, those clusters don't look so homogeneously grouped around trees anymore."
   ]
  },
  {
   "cell_type": "code",
   "execution_count": 45,
   "metadata": {},
   "outputs": [
    {
     "data": {
      "text/html": [
       "<div>\n",
       "<style scoped>\n",
       "    .dataframe tbody tr th:only-of-type {\n",
       "        vertical-align: middle;\n",
       "    }\n",
       "\n",
       "    .dataframe tbody tr th {\n",
       "        vertical-align: top;\n",
       "    }\n",
       "\n",
       "    .dataframe thead th {\n",
       "        text-align: right;\n",
       "    }\n",
       "</style>\n",
       "<table border=\"1\" class=\"dataframe\">\n",
       "  <thead>\n",
       "    <tr style=\"text-align: right;\">\n",
       "      <th></th>\n",
       "      <th>route_id</th>\n",
       "      <th>wp</th>\n",
       "      <th>poi</th>\n",
       "      <th>tree</th>\n",
       "      <th>bench</th>\n",
       "      <th>restaurant</th>\n",
       "      <th>cafe</th>\n",
       "      <th>atm</th>\n",
       "      <th>convenience</th>\n",
       "      <th>bar</th>\n",
       "      <th>ice_cream</th>\n",
       "      <th>picnic</th>\n",
       "      <th>viewpoint</th>\n",
       "      <th>gallery</th>\n",
       "      <th>museum</th>\n",
       "      <th>nightclub</th>\n",
       "      <th>drinking_water</th>\n",
       "      <th>historic</th>\n",
       "      <th>tourist_attraction</th>\n",
       "      <th>cluster</th>\n",
       "    </tr>\n",
       "  </thead>\n",
       "  <tbody>\n",
       "    <tr>\n",
       "      <th>0</th>\n",
       "      <td>3503503</td>\n",
       "      <td>8</td>\n",
       "      <td>14</td>\n",
       "      <td>-0.490473</td>\n",
       "      <td>-0.661214</td>\n",
       "      <td>-0.528217</td>\n",
       "      <td>-0.478947</td>\n",
       "      <td>-0.430885</td>\n",
       "      <td>-0.362437</td>\n",
       "      <td>-0.406891</td>\n",
       "      <td>-0.367831</td>\n",
       "      <td>-0.36249</td>\n",
       "      <td>-0.379029</td>\n",
       "      <td>-0.294444</td>\n",
       "      <td>-0.3018</td>\n",
       "      <td>-0.291943</td>\n",
       "      <td>-0.348438</td>\n",
       "      <td>-0.264851</td>\n",
       "      <td>-0.271723</td>\n",
       "      <td>4</td>\n",
       "    </tr>\n",
       "    <tr>\n",
       "      <th>1</th>\n",
       "      <td>2713522</td>\n",
       "      <td>8</td>\n",
       "      <td>2</td>\n",
       "      <td>-0.534734</td>\n",
       "      <td>-0.608174</td>\n",
       "      <td>-0.528217</td>\n",
       "      <td>-0.478947</td>\n",
       "      <td>-0.430885</td>\n",
       "      <td>-0.362437</td>\n",
       "      <td>-0.406891</td>\n",
       "      <td>-0.367831</td>\n",
       "      <td>-0.36249</td>\n",
       "      <td>-0.379029</td>\n",
       "      <td>-0.294444</td>\n",
       "      <td>-0.3018</td>\n",
       "      <td>-0.291943</td>\n",
       "      <td>-0.348438</td>\n",
       "      <td>-0.264851</td>\n",
       "      <td>-0.271723</td>\n",
       "      <td>4</td>\n",
       "    </tr>\n",
       "    <tr>\n",
       "      <th>2</th>\n",
       "      <td>3503504</td>\n",
       "      <td>8</td>\n",
       "      <td>9</td>\n",
       "      <td>-0.506281</td>\n",
       "      <td>-0.661214</td>\n",
       "      <td>-0.528217</td>\n",
       "      <td>-0.478947</td>\n",
       "      <td>-0.430885</td>\n",
       "      <td>-0.362437</td>\n",
       "      <td>-0.406891</td>\n",
       "      <td>-0.367831</td>\n",
       "      <td>-0.36249</td>\n",
       "      <td>-0.379029</td>\n",
       "      <td>-0.294444</td>\n",
       "      <td>-0.3018</td>\n",
       "      <td>-0.291943</td>\n",
       "      <td>-0.348438</td>\n",
       "      <td>-0.264851</td>\n",
       "      <td>-0.271723</td>\n",
       "      <td>4</td>\n",
       "    </tr>\n",
       "    <tr>\n",
       "      <th>3</th>\n",
       "      <td>3568200</td>\n",
       "      <td>8</td>\n",
       "      <td>18</td>\n",
       "      <td>-0.477827</td>\n",
       "      <td>-0.661214</td>\n",
       "      <td>-0.528217</td>\n",
       "      <td>-0.478947</td>\n",
       "      <td>-0.430885</td>\n",
       "      <td>-0.362437</td>\n",
       "      <td>-0.406891</td>\n",
       "      <td>-0.367831</td>\n",
       "      <td>-0.36249</td>\n",
       "      <td>-0.379029</td>\n",
       "      <td>-0.294444</td>\n",
       "      <td>-0.3018</td>\n",
       "      <td>-0.291943</td>\n",
       "      <td>-0.348438</td>\n",
       "      <td>-0.264851</td>\n",
       "      <td>-0.271723</td>\n",
       "      <td>4</td>\n",
       "    </tr>\n",
       "    <tr>\n",
       "      <th>4</th>\n",
       "      <td>3573326</td>\n",
       "      <td>9</td>\n",
       "      <td>2</td>\n",
       "      <td>-0.534734</td>\n",
       "      <td>-0.661214</td>\n",
       "      <td>-0.377947</td>\n",
       "      <td>-0.478947</td>\n",
       "      <td>-0.430885</td>\n",
       "      <td>-0.362437</td>\n",
       "      <td>-0.406891</td>\n",
       "      <td>-0.367831</td>\n",
       "      <td>-0.36249</td>\n",
       "      <td>-0.379029</td>\n",
       "      <td>-0.294444</td>\n",
       "      <td>-0.3018</td>\n",
       "      <td>-0.291943</td>\n",
       "      <td>-0.348438</td>\n",
       "      <td>-0.264851</td>\n",
       "      <td>-0.271723</td>\n",
       "      <td>4</td>\n",
       "    </tr>\n",
       "  </tbody>\n",
       "</table>\n",
       "</div>"
      ],
      "text/plain": [
       "   route_id  wp  poi      tree     bench  restaurant      cafe       atm  \\\n",
       "0   3503503   8   14 -0.490473 -0.661214   -0.528217 -0.478947 -0.430885   \n",
       "1   2713522   8    2 -0.534734 -0.608174   -0.528217 -0.478947 -0.430885   \n",
       "2   3503504   8    9 -0.506281 -0.661214   -0.528217 -0.478947 -0.430885   \n",
       "3   3568200   8   18 -0.477827 -0.661214   -0.528217 -0.478947 -0.430885   \n",
       "4   3573326   9    2 -0.534734 -0.661214   -0.377947 -0.478947 -0.430885   \n",
       "\n",
       "   convenience       bar  ice_cream   picnic  viewpoint   gallery  museum  \\\n",
       "0    -0.362437 -0.406891  -0.367831 -0.36249  -0.379029 -0.294444 -0.3018   \n",
       "1    -0.362437 -0.406891  -0.367831 -0.36249  -0.379029 -0.294444 -0.3018   \n",
       "2    -0.362437 -0.406891  -0.367831 -0.36249  -0.379029 -0.294444 -0.3018   \n",
       "3    -0.362437 -0.406891  -0.367831 -0.36249  -0.379029 -0.294444 -0.3018   \n",
       "4    -0.362437 -0.406891  -0.367831 -0.36249  -0.379029 -0.294444 -0.3018   \n",
       "\n",
       "   nightclub  drinking_water  historic  tourist_attraction  cluster  \n",
       "0  -0.291943       -0.348438 -0.264851           -0.271723        4  \n",
       "1  -0.291943       -0.348438 -0.264851           -0.271723        4  \n",
       "2  -0.291943       -0.348438 -0.264851           -0.271723        4  \n",
       "3  -0.291943       -0.348438 -0.264851           -0.271723        4  \n",
       "4  -0.291943       -0.348438 -0.264851           -0.271723        4  "
      ]
     },
     "execution_count": 45,
     "metadata": {},
     "output_type": "execute_result"
    }
   ],
   "source": [
    "# Labelling df_poistand \n",
    "df_poistand_cluster = pd.concat([df_poistand, pd.DataFrame({'cluster':label})], join='inner', axis=1)\n",
    "df_poistand_cluster.head()"
   ]
  },
  {
   "cell_type": "code",
   "execution_count": 46,
   "metadata": {},
   "outputs": [],
   "source": [
    "# Writing the enhanced dataframe into a new csv file.\n",
    "df_poistand_cluster.to_csv('clustered_routes.csv')"
   ]
  },
  {
   "cell_type": "code",
   "execution_count": 68,
   "metadata": {},
   "outputs": [
    {
     "data": {
      "text/plain": [
       "tree                  0.535496\n",
       "bench                 0.445559\n",
       "restaurant            0.529685\n",
       "cafe                  0.548011\n",
       "atm                   0.373922\n",
       "convenience           0.373432\n",
       "bar                   0.591669\n",
       "ice_cream             0.431751\n",
       "picnic               -0.144870\n",
       "viewpoint            -0.010261\n",
       "gallery               0.251721\n",
       "museum                0.499010\n",
       "nightclub             0.608122\n",
       "drinking_water        0.355301\n",
       "historic              0.323947\n",
       "tourist_attraction    0.507216\n",
       "dtype: float64"
      ]
     },
     "execution_count": 68,
     "metadata": {},
     "output_type": "execute_result"
    }
   ],
   "source": [
    "# Inspecting clusters on standardised data (for manuel inspection)\n",
    "df_poistand_cluster[df_poistand_cluster['cluster'] == 5].iloc[:, 3:-1].mean() # substituting the cluster we're interested in"
   ]
  },
  {
   "cell_type": "markdown",
   "metadata": {},
   "source": [
    "Observations from inspecting the clusters\n",
    "-----\n",
    "legend: exceptionally = more than 1.0 std, high numbers = more than 0.5 std"
   ]
  },
  {
   "cell_type": "code",
   "execution_count": 67,
   "metadata": {},
   "outputs": [
    {
     "name": "stdout",
     "output_type": "stream",
     "text": [
      "0 : routes with exceptionally many Index(['tree', 'bench', 'restaurant', 'cafe', 'atm', 'convenience', 'bar',\n",
      "       'ice_cream', 'gallery', 'nightclub'],\n",
      "      dtype='object') and high numbers of Index(['picnic', 'museum', 'drinking_water'], dtype='object')\n",
      "1 : routes with exceptionally many Index(['tree', 'bench', 'picnic', 'viewpoint', 'drinking_water', 'historic'], dtype='object') and high numbers of Index(['restaurant', 'museum'], dtype='object')\n",
      "2 : routes with exceptionally many Index(['picnic'], dtype='object') and high numbers of Index([], dtype='object')\n",
      "3 : routes with exceptionally many Index(['tree', 'bench', 'restaurant', 'cafe', 'atm', 'convenience', 'bar',\n",
      "       'ice_cream', 'gallery', 'museum', 'nightclub', 'drinking_water',\n",
      "       'tourist_attraction'],\n",
      "      dtype='object') and high numbers of Index(['picnic', 'viewpoint', 'historic'], dtype='object')\n",
      "4 : routes with exceptionally many Index([], dtype='object') and high numbers of Index([], dtype='object')\n",
      "5 : routes with exceptionally many Index([], dtype='object') and high numbers of Index(['tree', 'restaurant', 'cafe', 'bar', 'nightclub', 'tourist_attraction'], dtype='object')\n"
     ]
    }
   ],
   "source": [
    "# Printing the major components of each cluster\n",
    "for ele in np.unique(label):\n",
    "    series = df_poistand_cluster[df_poistand_cluster['cluster'] == ele].iloc[:, 3:-1].mean()\n",
    "    print(np.unique(label)[ele], ': routes with exceptionally many', series.loc[series >= 1.0].index,'and high numbers of', series.loc[(series >= 0.5) & (series <= 1.0)].index)"
   ]
  }
 ],
 "metadata": {
  "interpreter": {
   "hash": "564affda49c06e85285ae0fe8dd2119d248d31041ebeec06fe0c8f5f82f46c07"
  },
  "kernelspec": {
   "display_name": "Python 3.10.1 64-bit",
   "language": "python",
   "name": "python3"
  },
  "language_info": {
   "codemirror_mode": {
    "name": "ipython",
    "version": 3
   },
   "file_extension": ".py",
   "mimetype": "text/x-python",
   "name": "python",
   "nbconvert_exporter": "python",
   "pygments_lexer": "ipython3",
   "version": "3.10.1"
  },
  "orig_nbformat": 4
 },
 "nbformat": 4,
 "nbformat_minor": 2
}
