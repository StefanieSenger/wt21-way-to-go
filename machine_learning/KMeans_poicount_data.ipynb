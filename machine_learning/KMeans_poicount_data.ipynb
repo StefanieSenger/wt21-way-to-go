{
 "cells": [
  {
   "cell_type": "code",
   "execution_count": 66,
   "metadata": {},
   "outputs": [],
   "source": [
    "import pandas as pd\n",
    "import numpy as np\n",
    "import matplotlib.pyplot as plt\n",
    "import seaborn as sns\n",
    "from sklearn.cluster import KMeans\n",
    "from kneed import KneeLocator\n",
    "from sklearn.metrics import silhouette_score\n",
    "from sklearn.decomposition import PCA"
   ]
  },
  {
   "cell_type": "markdown",
   "metadata": {},
   "source": [
    "KMeans for poi_count Data"
   ]
  },
  {
   "cell_type": "code",
   "execution_count": 66,
   "metadata": {},
   "outputs": [
    {
     "data": {
      "text/html": [
       "<div>\n",
       "<style scoped>\n",
       "    .dataframe tbody tr th:only-of-type {\n",
       "        vertical-align: middle;\n",
       "    }\n",
       "\n",
       "    .dataframe tbody tr th {\n",
       "        vertical-align: top;\n",
       "    }\n",
       "\n",
       "    .dataframe thead th {\n",
       "        text-align: right;\n",
       "    }\n",
       "</style>\n",
       "<table border=\"1\" class=\"dataframe\">\n",
       "  <thead>\n",
       "    <tr style=\"text-align: right;\">\n",
       "      <th></th>\n",
       "      <th>route_id</th>\n",
       "      <th>route_linestring</th>\n",
       "      <th>num_of_waypoint</th>\n",
       "      <th>waypoint_longitude</th>\n",
       "      <th>waypoint_latitude</th>\n",
       "      <th>poi_lat_lgt</th>\n",
       "      <th>poi_longitude</th>\n",
       "      <th>poi_latitude</th>\n",
       "      <th>poi_category</th>\n",
       "      <th>poi_name</th>\n",
       "      <th>distance</th>\n",
       "    </tr>\n",
       "  </thead>\n",
       "  <tbody>\n",
       "    <tr>\n",
       "      <th>0</th>\n",
       "      <td>113043</td>\n",
       "      <td>LINESTRING (13.69072 52.45147, 13.69075 52.451...</td>\n",
       "      <td>133</td>\n",
       "      <td>13.67734</td>\n",
       "      <td>52.43849</td>\n",
       "      <td>POINT (13.6774745 52.4385208)</td>\n",
       "      <td>13.677475</td>\n",
       "      <td>52.438521</td>\n",
       "      <td>viewpoint</td>\n",
       "      <td>Müggeleck</td>\n",
       "      <td>0.000138</td>\n",
       "    </tr>\n",
       "    <tr>\n",
       "      <th>1</th>\n",
       "      <td>113043</td>\n",
       "      <td>LINESTRING (13.69072 52.45147, 13.69075 52.451...</td>\n",
       "      <td>282</td>\n",
       "      <td>13.62759</td>\n",
       "      <td>52.44386</td>\n",
       "      <td>POINT (13.6279051 52.444312)</td>\n",
       "      <td>13.627905</td>\n",
       "      <td>52.444312</td>\n",
       "      <td>bench</td>\n",
       "      <td>NaN</td>\n",
       "      <td>0.000551</td>\n",
       "    </tr>\n",
       "    <tr>\n",
       "      <th>2</th>\n",
       "      <td>113043</td>\n",
       "      <td>LINESTRING (13.69072 52.45147, 13.69075 52.451...</td>\n",
       "      <td>288</td>\n",
       "      <td>13.62704</td>\n",
       "      <td>52.44442</td>\n",
       "      <td>POINT (13.6271595 52.4444457)</td>\n",
       "      <td>13.627159</td>\n",
       "      <td>52.444446</td>\n",
       "      <td>bench</td>\n",
       "      <td>NaN</td>\n",
       "      <td>0.000122</td>\n",
       "    </tr>\n",
       "    <tr>\n",
       "      <th>3</th>\n",
       "      <td>113043</td>\n",
       "      <td>LINESTRING (13.69072 52.45147, 13.69075 52.451...</td>\n",
       "      <td>288</td>\n",
       "      <td>13.62704</td>\n",
       "      <td>52.44442</td>\n",
       "      <td>POINT (13.6269487 52.4444808)</td>\n",
       "      <td>13.626949</td>\n",
       "      <td>52.444481</td>\n",
       "      <td>bench</td>\n",
       "      <td>NaN</td>\n",
       "      <td>0.000110</td>\n",
       "    </tr>\n",
       "    <tr>\n",
       "      <th>4</th>\n",
       "      <td>113043</td>\n",
       "      <td>LINESTRING (13.69072 52.45147, 13.69075 52.451...</td>\n",
       "      <td>292</td>\n",
       "      <td>13.62716</td>\n",
       "      <td>52.44509</td>\n",
       "      <td>POINT (13.6273851 52.4453161)</td>\n",
       "      <td>13.627385</td>\n",
       "      <td>52.445316</td>\n",
       "      <td>bench</td>\n",
       "      <td>NaN</td>\n",
       "      <td>0.000319</td>\n",
       "    </tr>\n",
       "  </tbody>\n",
       "</table>\n",
       "</div>"
      ],
      "text/plain": [
       "   route_id                                   route_linestring  \\\n",
       "0    113043  LINESTRING (13.69072 52.45147, 13.69075 52.451...   \n",
       "1    113043  LINESTRING (13.69072 52.45147, 13.69075 52.451...   \n",
       "2    113043  LINESTRING (13.69072 52.45147, 13.69075 52.451...   \n",
       "3    113043  LINESTRING (13.69072 52.45147, 13.69075 52.451...   \n",
       "4    113043  LINESTRING (13.69072 52.45147, 13.69075 52.451...   \n",
       "\n",
       "   num_of_waypoint  waypoint_longitude  waypoint_latitude  \\\n",
       "0              133            13.67734           52.43849   \n",
       "1              282            13.62759           52.44386   \n",
       "2              288            13.62704           52.44442   \n",
       "3              288            13.62704           52.44442   \n",
       "4              292            13.62716           52.44509   \n",
       "\n",
       "                     poi_lat_lgt  poi_longitude  poi_latitude poi_category  \\\n",
       "0  POINT (13.6774745 52.4385208)      13.677475     52.438521    viewpoint   \n",
       "1   POINT (13.6279051 52.444312)      13.627905     52.444312        bench   \n",
       "2  POINT (13.6271595 52.4444457)      13.627159     52.444446        bench   \n",
       "3  POINT (13.6269487 52.4444808)      13.626949     52.444481        bench   \n",
       "4  POINT (13.6273851 52.4453161)      13.627385     52.445316        bench   \n",
       "\n",
       "    poi_name  distance  \n",
       "0  Müggeleck  0.000138  \n",
       "1        NaN  0.000551  \n",
       "2        NaN  0.000122  \n",
       "3        NaN  0.000110  \n",
       "4        NaN  0.000319  "
      ]
     },
     "execution_count": 66,
     "metadata": {},
     "output_type": "execute_result"
    }
   ],
   "source": [
    "# Just for inspecting (and not forgetting about some potentially useful features from) the whole joined dataset\n",
    "df_jointdata = pd.read_csv('joint_data.csv')\n",
    "df_jointdata.head()"
   ]
  },
  {
   "cell_type": "code",
   "execution_count": 3,
   "metadata": {},
   "outputs": [
    {
     "data": {
      "text/html": [
       "<div>\n",
       "<style scoped>\n",
       "    .dataframe tbody tr th:only-of-type {\n",
       "        vertical-align: middle;\n",
       "    }\n",
       "\n",
       "    .dataframe tbody tr th {\n",
       "        vertical-align: top;\n",
       "    }\n",
       "\n",
       "    .dataframe thead th {\n",
       "        text-align: right;\n",
       "    }\n",
       "</style>\n",
       "<table border=\"1\" class=\"dataframe\">\n",
       "  <thead>\n",
       "    <tr style=\"text-align: right;\">\n",
       "      <th></th>\n",
       "      <th>route_id</th>\n",
       "      <th>wp</th>\n",
       "      <th>poi</th>\n",
       "      <th>tree</th>\n",
       "      <th>bench</th>\n",
       "      <th>restaurant</th>\n",
       "      <th>cafe</th>\n",
       "      <th>atm</th>\n",
       "      <th>convenience</th>\n",
       "      <th>bar</th>\n",
       "      <th>ice_cream</th>\n",
       "      <th>picnic</th>\n",
       "      <th>viewpoint</th>\n",
       "      <th>gallery</th>\n",
       "      <th>museum</th>\n",
       "      <th>nightclub</th>\n",
       "      <th>drinking_water</th>\n",
       "      <th>historic</th>\n",
       "      <th>t_attraction</th>\n",
       "    </tr>\n",
       "  </thead>\n",
       "  <tbody>\n",
       "    <tr>\n",
       "      <th>0</th>\n",
       "      <td>3503503</td>\n",
       "      <td>8</td>\n",
       "      <td>14</td>\n",
       "      <td>14</td>\n",
       "      <td>0</td>\n",
       "      <td>0</td>\n",
       "      <td>0</td>\n",
       "      <td>0</td>\n",
       "      <td>0</td>\n",
       "      <td>0</td>\n",
       "      <td>0</td>\n",
       "      <td>0</td>\n",
       "      <td>0</td>\n",
       "      <td>0</td>\n",
       "      <td>0</td>\n",
       "      <td>0</td>\n",
       "      <td>0</td>\n",
       "      <td>0</td>\n",
       "      <td>0</td>\n",
       "    </tr>\n",
       "    <tr>\n",
       "      <th>1</th>\n",
       "      <td>2713522</td>\n",
       "      <td>8</td>\n",
       "      <td>2</td>\n",
       "      <td>0</td>\n",
       "      <td>2</td>\n",
       "      <td>0</td>\n",
       "      <td>0</td>\n",
       "      <td>0</td>\n",
       "      <td>0</td>\n",
       "      <td>0</td>\n",
       "      <td>0</td>\n",
       "      <td>0</td>\n",
       "      <td>0</td>\n",
       "      <td>0</td>\n",
       "      <td>0</td>\n",
       "      <td>0</td>\n",
       "      <td>0</td>\n",
       "      <td>0</td>\n",
       "      <td>0</td>\n",
       "    </tr>\n",
       "    <tr>\n",
       "      <th>2</th>\n",
       "      <td>3503504</td>\n",
       "      <td>8</td>\n",
       "      <td>9</td>\n",
       "      <td>9</td>\n",
       "      <td>0</td>\n",
       "      <td>0</td>\n",
       "      <td>0</td>\n",
       "      <td>0</td>\n",
       "      <td>0</td>\n",
       "      <td>0</td>\n",
       "      <td>0</td>\n",
       "      <td>0</td>\n",
       "      <td>0</td>\n",
       "      <td>0</td>\n",
       "      <td>0</td>\n",
       "      <td>0</td>\n",
       "      <td>0</td>\n",
       "      <td>0</td>\n",
       "      <td>0</td>\n",
       "    </tr>\n",
       "    <tr>\n",
       "      <th>3</th>\n",
       "      <td>3568200</td>\n",
       "      <td>8</td>\n",
       "      <td>18</td>\n",
       "      <td>18</td>\n",
       "      <td>0</td>\n",
       "      <td>0</td>\n",
       "      <td>0</td>\n",
       "      <td>0</td>\n",
       "      <td>0</td>\n",
       "      <td>0</td>\n",
       "      <td>0</td>\n",
       "      <td>0</td>\n",
       "      <td>0</td>\n",
       "      <td>0</td>\n",
       "      <td>0</td>\n",
       "      <td>0</td>\n",
       "      <td>0</td>\n",
       "      <td>0</td>\n",
       "      <td>0</td>\n",
       "    </tr>\n",
       "    <tr>\n",
       "      <th>4</th>\n",
       "      <td>3573326</td>\n",
       "      <td>9</td>\n",
       "      <td>2</td>\n",
       "      <td>0</td>\n",
       "      <td>0</td>\n",
       "      <td>2</td>\n",
       "      <td>0</td>\n",
       "      <td>0</td>\n",
       "      <td>0</td>\n",
       "      <td>0</td>\n",
       "      <td>0</td>\n",
       "      <td>0</td>\n",
       "      <td>0</td>\n",
       "      <td>0</td>\n",
       "      <td>0</td>\n",
       "      <td>0</td>\n",
       "      <td>0</td>\n",
       "      <td>0</td>\n",
       "      <td>0</td>\n",
       "    </tr>\n",
       "  </tbody>\n",
       "</table>\n",
       "</div>"
      ],
      "text/plain": [
       "   route_id  wp  poi  tree  bench  restaurant  cafe  atm  convenience  bar  \\\n",
       "0   3503503   8   14    14      0           0     0    0            0    0   \n",
       "1   2713522   8    2     0      2           0     0    0            0    0   \n",
       "2   3503504   8    9     9      0           0     0    0            0    0   \n",
       "3   3568200   8   18    18      0           0     0    0            0    0   \n",
       "4   3573326   9    2     0      0           2     0    0            0    0   \n",
       "\n",
       "   ice_cream  picnic  viewpoint  gallery  museum  nightclub  drinking_water  \\\n",
       "0          0       0          0        0       0          0               0   \n",
       "1          0       0          0        0       0          0               0   \n",
       "2          0       0          0        0       0          0               0   \n",
       "3          0       0          0        0       0          0               0   \n",
       "4          0       0          0        0       0          0               0   \n",
       "\n",
       "   historic  t_attraction  \n",
       "0         0             0  \n",
       "1         0             0  \n",
       "2         0             0  \n",
       "3         0             0  \n",
       "4         0             0  "
      ]
     },
     "execution_count": 3,
     "metadata": {},
     "output_type": "execute_result"
    }
   ],
   "source": [
    "# Loading extracted poicount data from jointdata and making it easy to work with\n",
    "df_poicount = pd.read_csv('category_count_per_route.csv')\n",
    "df_poicount.fillna(0, inplace = True) # replacing NaN values with 0s\n",
    "df_poicount = df_poicount.apply(np.int64)\n",
    "df_poicount.rename(columns={\"wp_count\": \"wp\", \"poi_count\": \"poi\", \"tree_count\": \"tree\", \"bench_count\": \"bench\", \"bench_count.1\": \"restaurant\", \"cafe_count\": \"cafe\", \"atm_count\": \"atm\", \"convenience_count\": \"convenience\", \"bar_count\": \"bar\", \"ice_cream_count\": \"ice_cream\", \"picnic_table_count\": \"picnic\", \"viewpoint_count\": \"viewpoint\", \"gallery_count\": \"gallery\", \"museum_count\": \"museum\", \"nightclub_count\": \"nightclub\", \"drinking_water_count\": \"drinking_water\", \"historic_count\": \"historic\", \"tourist_attraction_count\": \"t_attraction\"}, inplace=True)\n",
    "df_poicount.head()"
   ]
  },
  {
   "cell_type": "code",
   "execution_count": 7,
   "metadata": {},
   "outputs": [
    {
     "data": {
      "text/plain": [
       "<AxesSubplot:>"
      ]
     },
     "execution_count": 7,
     "metadata": {},
     "output_type": "execute_result"
    },
    {
     "data": {
      "image/png": "[encoded data removed]",
      "text/plain": [
       "<Figure size 1080x720 with 2 Axes>"
      ]
     },
     "metadata": {
      "needs_background": "light"
     },
     "output_type": "display_data"
    }
   ],
   "source": [
    "# Getting correlations for all the poits of interest (poi)\n",
    "correlations = df_poicount.iloc[:, 3:].corr()\n",
    "f,ax=plt.subplots(figsize=(15,10))\n",
    "sns.heatmap(correlations,annot=True)"
   ]
  },
  {
   "cell_type": "markdown",
   "metadata": {},
   "source": [
    "We can see that viewpoints often come along (meaning being on the same route) with benches and trees, which make sense. Restaurants go well together with cafes, convenience shops, atms, bars, ice cream shops and galleries, while viewpoints and picnic tables almost never are on the same routes as these. Trees, surprisingly, don't seem to join the nature routes that often, but tend to be on those routes with shops and cafes. Tourist attractions and historic features don't show a clear correlation and seem to be scattered among the other categories (we only have small amounts of those in our dataset though). Nightclubs seem to go best with bars and atms, but no clear correlation here."
   ]
  },
  {
   "cell_type": "code",
   "execution_count": 8,
   "metadata": {},
   "outputs": [],
   "source": [
    "# Writing the easier to work with df in a new csv file\n",
    "df_poicount.to_csv(r'poicount.csv', index=False)"
   ]
  },
  {
   "cell_type": "code",
   "execution_count": 9,
   "metadata": {},
   "outputs": [],
   "source": [
    "# Reading poicount data in as numpy arrays\n",
    "poicount = np.genfromtxt('poicount.csv', delimiter=\",\", usecols=range(3, 19), skip_header=1)"
   ]
  },
  {
   "cell_type": "code",
   "execution_count": 10,
   "metadata": {},
   "outputs": [
    {
     "data": {
      "text/plain": [
       "array([14.,  0.,  0.,  0.,  0.,  0.,  0.,  0.,  0.,  0.,  0.,  0.,  0.,\n",
       "        0.,  0.,  0.])"
      ]
     },
     "execution_count": 10,
     "metadata": {},
     "output_type": "execute_result"
    }
   ],
   "source": [
    "# Inspecting if it worked well\n",
    "poicount[0] # it does :)"
   ]
  },
  {
   "cell_type": "code",
   "execution_count": 42,
   "metadata": {},
   "outputs": [],
   "source": [
    "# Initialising the KMeans class with more or less standard parameters\n",
    "kmeans = KMeans(init=\"random\", n_clusters=3, n_init=50, max_iter=500)"
   ]
  },
  {
   "cell_type": "code",
   "execution_count": 43,
   "metadata": {},
   "outputs": [],
   "source": [
    "# Applying the KMeans class to our data: it's going to run 50 times with 500 a max of interations each and return that resulat with the smallest SSE\n",
    "kmeans.fit(poicount)\n",
    "label = kmeans.labels_ # getting lables for latter mapping these to our dataframe"
   ]
  },
  {
   "cell_type": "code",
   "execution_count": 44,
   "metadata": {},
   "outputs": [
    {
     "data": {
      "text/plain": [
       "7194192.91662691"
      ]
     },
     "execution_count": 44,
     "metadata": {},
     "output_type": "execute_result"
    }
   ],
   "source": [
    "# Looking at the lowest SSE value\n",
    "kmeans.inertia_"
   ]
  },
  {
   "cell_type": "markdown",
   "metadata": {},
   "source": [
    "That high number is to be expected, because we have only 430 samples in 16 dimensions."
   ]
  },
  {
   "cell_type": "code",
   "execution_count": 45,
   "metadata": {},
   "outputs": [
    {
     "data": {
      "text/plain": [
       "array([[4.59431138e+01, 1.39161677e+01, 3.07784431e+00, 1.63173653e+00,\n",
       "        6.31736527e-01, 3.95209581e-01, 5.08982036e-01, 1.85628743e-01,\n",
       "        3.53293413e-01, 2.78443114e-01, 1.28742515e-01, 1.82634731e-01,\n",
       "        1.04790419e-01, 8.08383234e-02, 7.18562874e-02, 5.98802395e-02],\n",
       "       [4.24050633e+02, 5.21898734e+01, 1.51139241e+01, 8.74683544e+00,\n",
       "        3.50632911e+00, 3.18987342e+00, 2.79746835e+00, 1.25316456e+00,\n",
       "        5.69620253e-01, 6.58227848e-01, 6.70886076e-01, 5.44303797e-01,\n",
       "        5.18987342e-01, 4.30379747e-01, 2.27848101e-01, 1.77215190e-01],\n",
       "       [1.40500000e+03, 1.14705882e+02, 4.71176471e+01, 2.90588235e+01,\n",
       "        1.28235294e+01, 9.47058824e+00, 8.88235294e+00, 2.94117647e+00,\n",
       "        1.64705882e+00, 1.17647059e+00, 2.35294118e+00, 1.00000000e+00,\n",
       "        1.76470588e+00, 1.58823529e+00, 4.11764706e-01, 3.52941176e-01]])"
      ]
     },
     "execution_count": 45,
     "metadata": {},
     "output_type": "execute_result"
    }
   ],
   "source": [
    "# Looking at the locations of the centroids\n",
    "kmeans.cluster_centers_"
   ]
  },
  {
   "cell_type": "markdown",
   "metadata": {},
   "source": [
    "Looks like three distinct centroids, however when I ran this bevore, there were two quite similar ones which lead me to believe that it might be only two \"real\" clusters, because two of them where quite close to each other.\n",
    "\n",
    "That variance in outcome probably results from the huge spaces between the datapoints."
   ]
  },
  {
   "cell_type": "code",
   "execution_count": 47,
   "metadata": {},
   "outputs": [
    {
     "data": {
      "text/plain": [
       "13"
      ]
     },
     "execution_count": 47,
     "metadata": {},
     "output_type": "execute_result"
    }
   ],
   "source": [
    "# Nnumber of iterations required to converge\n",
    "kmeans.n_iter_"
   ]
  },
  {
   "cell_type": "markdown",
   "metadata": {},
   "source": [
    "13 interations (before it was 4) is suprisingly fast. The clusters seem to be suffuciently far apart from each other."
   ]
  },
  {
   "cell_type": "code",
   "execution_count": 48,
   "metadata": {},
   "outputs": [
    {
     "data": {
      "text/plain": [
       "array([0, 0, 0, 0, 0])"
      ]
     },
     "execution_count": 48,
     "metadata": {},
     "output_type": "execute_result"
    }
   ],
   "source": [
    "# Cluster assignments\n",
    "kmeans.labels_[:5] #looking at the first 5"
   ]
  },
  {
   "cell_type": "markdown",
   "metadata": {},
   "source": [
    "Probably all \"green routes with restaurats, cafes and so on\" ... I'm sure that cluster is by far the largest."
   ]
  },
  {
   "cell_type": "code",
   "execution_count": 49,
   "metadata": {},
   "outputs": [
    {
     "data": {
      "text/plain": [
       "{0: 334, 1: 79, 2: 17}"
      ]
     },
     "execution_count": 49,
     "metadata": {},
     "output_type": "execute_result"
    }
   ],
   "source": [
    "# Checking how many times each lable appears\n",
    "unique, counts = np.unique(kmeans.labels_, return_counts=True)\n",
    "dict(zip(unique, counts))"
   ]
  },
  {
   "cell_type": "markdown",
   "metadata": {},
   "source": [
    "Yes, there is one cluster that is much bigger than the others and that's probably the \"green city route\", because around 80% of our data is trees."
   ]
  },
  {
   "cell_type": "code",
   "execution_count": 46,
   "metadata": {},
   "outputs": [
    {
     "data": {
      "text/html": [
       "<div>\n",
       "<style scoped>\n",
       "    .dataframe tbody tr th:only-of-type {\n",
       "        vertical-align: middle;\n",
       "    }\n",
       "\n",
       "    .dataframe tbody tr th {\n",
       "        vertical-align: top;\n",
       "    }\n",
       "\n",
       "    .dataframe thead tr th {\n",
       "        text-align: left;\n",
       "    }\n",
       "</style>\n",
       "<table border=\"1\" class=\"dataframe\">\n",
       "  <thead>\n",
       "    <tr>\n",
       "      <th></th>\n",
       "      <th>tree</th>\n",
       "      <th>bench</th>\n",
       "      <th>restaurant</th>\n",
       "      <th>cafe</th>\n",
       "      <th>atm</th>\n",
       "      <th>convenience</th>\n",
       "      <th>bar</th>\n",
       "      <th>ice_cream</th>\n",
       "      <th>picnic</th>\n",
       "      <th>viewpoint</th>\n",
       "      <th>gallery</th>\n",
       "      <th>museum</th>\n",
       "      <th>nightclub</th>\n",
       "      <th>drinking_water</th>\n",
       "      <th>historic</th>\n",
       "      <th>t_attraction</th>\n",
       "    </tr>\n",
       "  </thead>\n",
       "  <tbody>\n",
       "    <tr>\n",
       "      <th>0</th>\n",
       "      <td>45.943114</td>\n",
       "      <td>13.916168</td>\n",
       "      <td>3.077844</td>\n",
       "      <td>1.631737</td>\n",
       "      <td>0.631737</td>\n",
       "      <td>0.395210</td>\n",
       "      <td>0.508982</td>\n",
       "      <td>0.185629</td>\n",
       "      <td>0.353293</td>\n",
       "      <td>0.278443</td>\n",
       "      <td>0.128743</td>\n",
       "      <td>0.182635</td>\n",
       "      <td>0.104790</td>\n",
       "      <td>0.080838</td>\n",
       "      <td>0.071856</td>\n",
       "      <td>0.059880</td>\n",
       "    </tr>\n",
       "    <tr>\n",
       "      <th>1</th>\n",
       "      <td>424.050633</td>\n",
       "      <td>52.189873</td>\n",
       "      <td>15.113924</td>\n",
       "      <td>8.746835</td>\n",
       "      <td>3.506329</td>\n",
       "      <td>3.189873</td>\n",
       "      <td>2.797468</td>\n",
       "      <td>1.253165</td>\n",
       "      <td>0.569620</td>\n",
       "      <td>0.658228</td>\n",
       "      <td>0.670886</td>\n",
       "      <td>0.544304</td>\n",
       "      <td>0.518987</td>\n",
       "      <td>0.430380</td>\n",
       "      <td>0.227848</td>\n",
       "      <td>0.177215</td>\n",
       "    </tr>\n",
       "    <tr>\n",
       "      <th>2</th>\n",
       "      <td>1405.000000</td>\n",
       "      <td>114.705882</td>\n",
       "      <td>47.117647</td>\n",
       "      <td>29.058824</td>\n",
       "      <td>12.823529</td>\n",
       "      <td>9.470588</td>\n",
       "      <td>8.882353</td>\n",
       "      <td>2.941176</td>\n",
       "      <td>1.647059</td>\n",
       "      <td>1.176471</td>\n",
       "      <td>2.352941</td>\n",
       "      <td>1.000000</td>\n",
       "      <td>1.764706</td>\n",
       "      <td>1.588235</td>\n",
       "      <td>0.411765</td>\n",
       "      <td>0.352941</td>\n",
       "    </tr>\n",
       "  </tbody>\n",
       "</table>\n",
       "</div>"
      ],
      "text/plain": [
       "          tree       bench restaurant       cafe        atm convenience  \\\n",
       "0    45.943114   13.916168   3.077844   1.631737   0.631737    0.395210   \n",
       "1   424.050633   52.189873  15.113924   8.746835   3.506329    3.189873   \n",
       "2  1405.000000  114.705882  47.117647  29.058824  12.823529    9.470588   \n",
       "\n",
       "        bar ice_cream    picnic viewpoint   gallery    museum nightclub  \\\n",
       "0  0.508982  0.185629  0.353293  0.278443  0.128743  0.182635  0.104790   \n",
       "1  2.797468  1.253165  0.569620  0.658228  0.670886  0.544304  0.518987   \n",
       "2  8.882353  2.941176  1.647059  1.176471  2.352941  1.000000  1.764706   \n",
       "\n",
       "  drinking_water  historic t_attraction  \n",
       "0       0.080838  0.071856     0.059880  \n",
       "1       0.430380  0.227848     0.177215  \n",
       "2       1.588235  0.411765     0.352941  "
      ]
     },
     "execution_count": 46,
     "metadata": {},
     "output_type": "execute_result"
    }
   ],
   "source": [
    "cluster_centers = pd.DataFrame(data=kmeans.cluster_centers_, columns = [df_poicount.columns[3:]])\n",
    "cluster_centers"
   ]
  },
  {
   "cell_type": "code",
   "execution_count": 56,
   "metadata": {},
   "outputs": [
    {
     "data": {
      "text/html": [
       "<div>\n",
       "<style scoped>\n",
       "    .dataframe tbody tr th:only-of-type {\n",
       "        vertical-align: middle;\n",
       "    }\n",
       "\n",
       "    .dataframe tbody tr th {\n",
       "        vertical-align: top;\n",
       "    }\n",
       "\n",
       "    .dataframe thead th {\n",
       "        text-align: right;\n",
       "    }\n",
       "</style>\n",
       "<table border=\"1\" class=\"dataframe\">\n",
       "  <thead>\n",
       "    <tr style=\"text-align: right;\">\n",
       "      <th></th>\n",
       "      <th>route_id</th>\n",
       "      <th>wp</th>\n",
       "      <th>poi</th>\n",
       "      <th>tree</th>\n",
       "      <th>bench</th>\n",
       "      <th>restaurant</th>\n",
       "      <th>cafe</th>\n",
       "      <th>atm</th>\n",
       "      <th>convenience</th>\n",
       "      <th>bar</th>\n",
       "      <th>ice_cream</th>\n",
       "      <th>picnic</th>\n",
       "      <th>viewpoint</th>\n",
       "      <th>gallery</th>\n",
       "      <th>museum</th>\n",
       "      <th>nightclub</th>\n",
       "      <th>drinking_water</th>\n",
       "      <th>historic</th>\n",
       "      <th>t_attraction</th>\n",
       "      <th>cluster</th>\n",
       "    </tr>\n",
       "  </thead>\n",
       "  <tbody>\n",
       "    <tr>\n",
       "      <th>0</th>\n",
       "      <td>3503503</td>\n",
       "      <td>8</td>\n",
       "      <td>14</td>\n",
       "      <td>14</td>\n",
       "      <td>0</td>\n",
       "      <td>0</td>\n",
       "      <td>0</td>\n",
       "      <td>0</td>\n",
       "      <td>0</td>\n",
       "      <td>0</td>\n",
       "      <td>0</td>\n",
       "      <td>0</td>\n",
       "      <td>0</td>\n",
       "      <td>0</td>\n",
       "      <td>0</td>\n",
       "      <td>0</td>\n",
       "      <td>0</td>\n",
       "      <td>0</td>\n",
       "      <td>0</td>\n",
       "      <td>0</td>\n",
       "    </tr>\n",
       "    <tr>\n",
       "      <th>1</th>\n",
       "      <td>2713522</td>\n",
       "      <td>8</td>\n",
       "      <td>2</td>\n",
       "      <td>0</td>\n",
       "      <td>2</td>\n",
       "      <td>0</td>\n",
       "      <td>0</td>\n",
       "      <td>0</td>\n",
       "      <td>0</td>\n",
       "      <td>0</td>\n",
       "      <td>0</td>\n",
       "      <td>0</td>\n",
       "      <td>0</td>\n",
       "      <td>0</td>\n",
       "      <td>0</td>\n",
       "      <td>0</td>\n",
       "      <td>0</td>\n",
       "      <td>0</td>\n",
       "      <td>0</td>\n",
       "      <td>0</td>\n",
       "    </tr>\n",
       "    <tr>\n",
       "      <th>2</th>\n",
       "      <td>3503504</td>\n",
       "      <td>8</td>\n",
       "      <td>9</td>\n",
       "      <td>9</td>\n",
       "      <td>0</td>\n",
       "      <td>0</td>\n",
       "      <td>0</td>\n",
       "      <td>0</td>\n",
       "      <td>0</td>\n",
       "      <td>0</td>\n",
       "      <td>0</td>\n",
       "      <td>0</td>\n",
       "      <td>0</td>\n",
       "      <td>0</td>\n",
       "      <td>0</td>\n",
       "      <td>0</td>\n",
       "      <td>0</td>\n",
       "      <td>0</td>\n",
       "      <td>0</td>\n",
       "      <td>0</td>\n",
       "    </tr>\n",
       "    <tr>\n",
       "      <th>3</th>\n",
       "      <td>3568200</td>\n",
       "      <td>8</td>\n",
       "      <td>18</td>\n",
       "      <td>18</td>\n",
       "      <td>0</td>\n",
       "      <td>0</td>\n",
       "      <td>0</td>\n",
       "      <td>0</td>\n",
       "      <td>0</td>\n",
       "      <td>0</td>\n",
       "      <td>0</td>\n",
       "      <td>0</td>\n",
       "      <td>0</td>\n",
       "      <td>0</td>\n",
       "      <td>0</td>\n",
       "      <td>0</td>\n",
       "      <td>0</td>\n",
       "      <td>0</td>\n",
       "      <td>0</td>\n",
       "      <td>0</td>\n",
       "    </tr>\n",
       "    <tr>\n",
       "      <th>4</th>\n",
       "      <td>3573326</td>\n",
       "      <td>9</td>\n",
       "      <td>2</td>\n",
       "      <td>0</td>\n",
       "      <td>0</td>\n",
       "      <td>2</td>\n",
       "      <td>0</td>\n",
       "      <td>0</td>\n",
       "      <td>0</td>\n",
       "      <td>0</td>\n",
       "      <td>0</td>\n",
       "      <td>0</td>\n",
       "      <td>0</td>\n",
       "      <td>0</td>\n",
       "      <td>0</td>\n",
       "      <td>0</td>\n",
       "      <td>0</td>\n",
       "      <td>0</td>\n",
       "      <td>0</td>\n",
       "      <td>0</td>\n",
       "    </tr>\n",
       "    <tr>\n",
       "      <th>...</th>\n",
       "      <td>...</td>\n",
       "      <td>...</td>\n",
       "      <td>...</td>\n",
       "      <td>...</td>\n",
       "      <td>...</td>\n",
       "      <td>...</td>\n",
       "      <td>...</td>\n",
       "      <td>...</td>\n",
       "      <td>...</td>\n",
       "      <td>...</td>\n",
       "      <td>...</td>\n",
       "      <td>...</td>\n",
       "      <td>...</td>\n",
       "      <td>...</td>\n",
       "      <td>...</td>\n",
       "      <td>...</td>\n",
       "      <td>...</td>\n",
       "      <td>...</td>\n",
       "      <td>...</td>\n",
       "      <td>...</td>\n",
       "    </tr>\n",
       "    <tr>\n",
       "      <th>425</th>\n",
       "      <td>3635047</td>\n",
       "      <td>2768</td>\n",
       "      <td>935</td>\n",
       "      <td>787</td>\n",
       "      <td>50</td>\n",
       "      <td>51</td>\n",
       "      <td>26</td>\n",
       "      <td>6</td>\n",
       "      <td>3</td>\n",
       "      <td>6</td>\n",
       "      <td>3</td>\n",
       "      <td>0</td>\n",
       "      <td>1</td>\n",
       "      <td>2</td>\n",
       "      <td>0</td>\n",
       "      <td>0</td>\n",
       "      <td>0</td>\n",
       "      <td>0</td>\n",
       "      <td>0</td>\n",
       "      <td>1</td>\n",
       "    </tr>\n",
       "    <tr>\n",
       "      <th>426</th>\n",
       "      <td>3470257</td>\n",
       "      <td>3422</td>\n",
       "      <td>1924</td>\n",
       "      <td>1608</td>\n",
       "      <td>239</td>\n",
       "      <td>42</td>\n",
       "      <td>12</td>\n",
       "      <td>9</td>\n",
       "      <td>4</td>\n",
       "      <td>1</td>\n",
       "      <td>0</td>\n",
       "      <td>2</td>\n",
       "      <td>2</td>\n",
       "      <td>0</td>\n",
       "      <td>1</td>\n",
       "      <td>0</td>\n",
       "      <td>2</td>\n",
       "      <td>1</td>\n",
       "      <td>1</td>\n",
       "      <td>2</td>\n",
       "    </tr>\n",
       "    <tr>\n",
       "      <th>427</th>\n",
       "      <td>364274</td>\n",
       "      <td>3585</td>\n",
       "      <td>828</td>\n",
       "      <td>681</td>\n",
       "      <td>47</td>\n",
       "      <td>38</td>\n",
       "      <td>24</td>\n",
       "      <td>14</td>\n",
       "      <td>9</td>\n",
       "      <td>6</td>\n",
       "      <td>4</td>\n",
       "      <td>0</td>\n",
       "      <td>0</td>\n",
       "      <td>1</td>\n",
       "      <td>2</td>\n",
       "      <td>0</td>\n",
       "      <td>0</td>\n",
       "      <td>2</td>\n",
       "      <td>0</td>\n",
       "      <td>1</td>\n",
       "    </tr>\n",
       "    <tr>\n",
       "      <th>428</th>\n",
       "      <td>3502672</td>\n",
       "      <td>3876</td>\n",
       "      <td>99</td>\n",
       "      <td>71</td>\n",
       "      <td>19</td>\n",
       "      <td>3</td>\n",
       "      <td>0</td>\n",
       "      <td>1</td>\n",
       "      <td>1</td>\n",
       "      <td>1</td>\n",
       "      <td>1</td>\n",
       "      <td>0</td>\n",
       "      <td>1</td>\n",
       "      <td>0</td>\n",
       "      <td>0</td>\n",
       "      <td>0</td>\n",
       "      <td>0</td>\n",
       "      <td>0</td>\n",
       "      <td>1</td>\n",
       "      <td>0</td>\n",
       "    </tr>\n",
       "    <tr>\n",
       "      <th>429</th>\n",
       "      <td>2586127</td>\n",
       "      <td>4472</td>\n",
       "      <td>6</td>\n",
       "      <td>1</td>\n",
       "      <td>3</td>\n",
       "      <td>2</td>\n",
       "      <td>0</td>\n",
       "      <td>0</td>\n",
       "      <td>0</td>\n",
       "      <td>0</td>\n",
       "      <td>0</td>\n",
       "      <td>0</td>\n",
       "      <td>0</td>\n",
       "      <td>0</td>\n",
       "      <td>0</td>\n",
       "      <td>0</td>\n",
       "      <td>0</td>\n",
       "      <td>0</td>\n",
       "      <td>0</td>\n",
       "      <td>0</td>\n",
       "    </tr>\n",
       "  </tbody>\n",
       "</table>\n",
       "<p>430 rows × 20 columns</p>\n",
       "</div>"
      ],
      "text/plain": [
       "     route_id    wp   poi  tree  bench  restaurant  cafe  atm  convenience  \\\n",
       "0     3503503     8    14    14      0           0     0    0            0   \n",
       "1     2713522     8     2     0      2           0     0    0            0   \n",
       "2     3503504     8     9     9      0           0     0    0            0   \n",
       "3     3568200     8    18    18      0           0     0    0            0   \n",
       "4     3573326     9     2     0      0           2     0    0            0   \n",
       "..        ...   ...   ...   ...    ...         ...   ...  ...          ...   \n",
       "425   3635047  2768   935   787     50          51    26    6            3   \n",
       "426   3470257  3422  1924  1608    239          42    12    9            4   \n",
       "427    364274  3585   828   681     47          38    24   14            9   \n",
       "428   3502672  3876    99    71     19           3     0    1            1   \n",
       "429   2586127  4472     6     1      3           2     0    0            0   \n",
       "\n",
       "     bar  ice_cream  picnic  viewpoint  gallery  museum  nightclub  \\\n",
       "0      0          0       0          0        0       0          0   \n",
       "1      0          0       0          0        0       0          0   \n",
       "2      0          0       0          0        0       0          0   \n",
       "3      0          0       0          0        0       0          0   \n",
       "4      0          0       0          0        0       0          0   \n",
       "..   ...        ...     ...        ...      ...     ...        ...   \n",
       "425    6          3       0          1        2       0          0   \n",
       "426    1          0       2          2        0       1          0   \n",
       "427    6          4       0          0        1       2          0   \n",
       "428    1          1       0          1        0       0          0   \n",
       "429    0          0       0          0        0       0          0   \n",
       "\n",
       "     drinking_water  historic  t_attraction  cluster  \n",
       "0                 0         0             0        0  \n",
       "1                 0         0             0        0  \n",
       "2                 0         0             0        0  \n",
       "3                 0         0             0        0  \n",
       "4                 0         0             0        0  \n",
       "..              ...       ...           ...      ...  \n",
       "425               0         0             0        1  \n",
       "426               2         1             1        2  \n",
       "427               0         2             0        1  \n",
       "428               0         0             1        0  \n",
       "429               0         0             0        0  \n",
       "\n",
       "[430 rows x 20 columns]"
      ]
     },
     "execution_count": 56,
     "metadata": {},
     "output_type": "execute_result"
    }
   ],
   "source": [
    "# Mapping our labels into our dataframe (each route gets a label)\n",
    "df_poicount_cluster = pd.concat([df_poicount, pd.DataFrame({'cluster':label})],axis=1)\n",
    "df_poicount_cluster"
   ]
  },
  {
   "cell_type": "code",
   "execution_count": 57,
   "metadata": {},
   "outputs": [
    {
     "data": {
      "text/plain": [
       "[43656285.76744186,\n",
       " 15583872.29083333,\n",
       " 7194192.91662691,\n",
       " 4186525.7494693776,\n",
       " 2735574.8748075585,\n",
       " 1969625.8074675968,\n",
       " 1703064.1289922595,\n",
       " 1569293.4524614203,\n",
       " 1392513.3939517194,\n",
       " 1429594.5380185172]"
      ]
     },
     "execution_count": 57,
     "metadata": {},
     "output_type": "execute_result"
    }
   ],
   "source": [
    "# Elbow method for finding the best k\n",
    "\n",
    "# Increasing k by 1 with every step and store the SSE in a list\n",
    "kmeans_kwargs = {\"init\": \"random\", \"n_init\": 50, \"max_iter\": 500}\n",
    "\n",
    "# A list holds the SSE values for each k\n",
    "sse = []\n",
    "for k in range(1, 11):\n",
    "    kmeans = KMeans(n_clusters=k, **kmeans_kwargs)\n",
    "    kmeans.fit(poicount)\n",
    "    sse.append(kmeans.inertia_)\n",
    "sse"
   ]
  },
  {
   "cell_type": "markdown",
   "metadata": {},
   "source": [
    "This confirms that there might as well be only two clusters. Let's visually check."
   ]
  },
  {
   "cell_type": "code",
   "execution_count": 58,
   "metadata": {},
   "outputs": [
    {
     "data": {
      "image/png": "[encoded data removed]",
      "text/plain": [
       "<Figure size 432x288 with 1 Axes>"
      ]
     },
     "metadata": {},
     "output_type": "display_data"
    }
   ],
   "source": [
    "# Graphically finding the \"elbow\", where the SSE and the number of clusters are in reasonable trade-off to each other\n",
    "plt.style.use(\"fivethirtyeight\")\n",
    "plt.plot(range(1, 11), sse)\n",
    "plt.xticks(range(1, 11))\n",
    "plt.xlabel(\"Number of Clusters\")\n",
    "plt.ylabel(\"SSE\")\n",
    "plt.show()"
   ]
  },
  {
   "cell_type": "markdown",
   "metadata": {},
   "source": [
    "2 or 3 clusters can be found. It seems that there are two clusters relatively near to each other (compared to the distance from the third cluster). Let's calculate it."
   ]
  },
  {
   "cell_type": "code",
   "execution_count": 59,
   "metadata": {},
   "outputs": [
    {
     "data": {
      "text/plain": [
       "3"
      ]
     },
     "execution_count": 59,
     "metadata": {},
     "output_type": "execute_result"
    }
   ],
   "source": [
    "# Using the Python package \"kneed\" to identify the elbow point programmatically\n",
    "kl = KneeLocator(range(1, 11), sse, curve=\"convex\", direction=\"decreasing\")\n",
    "kl.elbow"
   ]
  },
  {
   "cell_type": "markdown",
   "metadata": {},
   "source": [
    "Okay, seems to be 3 clusters. Let's still also implement the silhouette coefficient."
   ]
  },
  {
   "cell_type": "code",
   "execution_count": 60,
   "metadata": {},
   "outputs": [
    {
     "data": {
      "text/plain": [
       "[0.8134777043053864,\n",
       " 0.7285483137307086,\n",
       " 0.723097498219662,\n",
       " 0.6585220748121681,\n",
       " 0.6452131359680884,\n",
       " 0.5861195928222211,\n",
       " 0.5464984482617165,\n",
       " 0.5253853395990946,\n",
       " 0.5430442176188255]"
      ]
     },
     "execution_count": 60,
     "metadata": {},
     "output_type": "execute_result"
    }
   ],
   "source": [
    "# Making a List for the silhouette coefficients for each k, starting at 2\n",
    "silhouette_coefficients = []\n",
    "for k in range(2, 11):\n",
    "    kmeans = KMeans(n_clusters=k, **kmeans_kwargs)\n",
    "    kmeans.fit(poicount)\n",
    "    score = silhouette_score(poicount, kmeans.labels_)\n",
    "    silhouette_coefficients.append(score)\n",
    "\n",
    "silhouette_coefficients"
   ]
  },
  {
   "cell_type": "code",
   "execution_count": 61,
   "metadata": {},
   "outputs": [
    {
     "data": {
      "image/png": "[encoded data removed]",
      "text/plain": [
       "<Figure size 432x288 with 1 Axes>"
      ]
     },
     "metadata": {},
     "output_type": "display_data"
    }
   ],
   "source": [
    "# Plotting the average silhouette scores for each k\n",
    "plt.style.use(\"fivethirtyeight\")\n",
    "plt.plot(range(2, 11), silhouette_coefficients)\n",
    "plt.xticks(range(2, 11))\n",
    "plt.xlabel(\"Number of Clusters\")\n",
    "plt.ylabel(\"Silhouette Coefficient\")\n",
    "plt.show()"
   ]
  },
  {
   "cell_type": "markdown",
   "metadata": {},
   "source": [
    "This speaks for better going with 2 clusters. Two of the three clusters we had first found seem to be very near to each other, while the third one is further apart. Those first two could be considered as a joined cluster. Or, depending of how we want to implement our new knowlledge, maybe we should also go with three clusters."
   ]
  },
  {
   "cell_type": "markdown",
   "metadata": {},
   "source": [
    "Let's check what would happen if we'd go with two clusters only."
   ]
  },
  {
   "cell_type": "code",
   "execution_count": 63,
   "metadata": {},
   "outputs": [
    {
     "name": "stdout",
     "output_type": "stream",
     "text": [
      "15583872.29083333\n",
      "[[1.09896667e+03 9.21666667e+01 3.69666667e+01 2.19666667e+01\n",
      "  9.63333333e+00 7.43333333e+00 7.06666667e+00 2.60000000e+00\n",
      "  1.56666667e+00 9.00000000e-01 1.66666667e+00 8.00000000e-01\n",
      "  1.13333333e+00 1.13333333e+00 3.00000000e-01 2.00000000e-01]\n",
      " [9.94025000e+01 1.98900000e+01 4.78500000e+00 2.67750000e+00\n",
      "  1.04250000e+00 8.05000000e-01 8.25000000e-01 3.32500000e-01\n",
      "  3.60000000e-01 3.45000000e-01 2.15000000e-01 2.42500000e-01\n",
      "  1.80000000e-01 1.35000000e-01 1.00000000e-01 8.50000000e-02]]\n",
      "10\n"
     ]
    },
    {
     "data": {
      "text/plain": [
       "{0: 30, 1: 400}"
      ]
     },
     "execution_count": 63,
     "metadata": {},
     "output_type": "execute_result"
    }
   ],
   "source": [
    "# Initialising the KMeans class with more or less standard parameters and applying it\n",
    "kmeans = KMeans(init=\"random\", n_clusters=2, n_init=50, max_iter=500)\n",
    "kmeans.fit(poicount)\n",
    "\n",
    "# Lookng at some statistics\n",
    "print(kmeans.inertia_) #l owest SSE value\n",
    "print(kmeans.cluster_centers_) #locations of the centroids\n",
    "print(kmeans.n_iter_) #number of iterations required to converge\n",
    "unique, counts = np.unique(kmeans.labels_, return_counts=True) # checking how many times each lable appears\n",
    "dict(zip(unique, counts))"
   ]
  },
  {
   "cell_type": "code",
   "execution_count": 64,
   "metadata": {},
   "outputs": [
    {
     "data": {
      "text/html": [
       "<div>\n",
       "<style scoped>\n",
       "    .dataframe tbody tr th:only-of-type {\n",
       "        vertical-align: middle;\n",
       "    }\n",
       "\n",
       "    .dataframe tbody tr th {\n",
       "        vertical-align: top;\n",
       "    }\n",
       "\n",
       "    .dataframe thead tr th {\n",
       "        text-align: left;\n",
       "    }\n",
       "</style>\n",
       "<table border=\"1\" class=\"dataframe\">\n",
       "  <thead>\n",
       "    <tr>\n",
       "      <th></th>\n",
       "      <th>tree</th>\n",
       "      <th>bench</th>\n",
       "      <th>restaurant</th>\n",
       "      <th>cafe</th>\n",
       "      <th>atm</th>\n",
       "      <th>convenience</th>\n",
       "      <th>bar</th>\n",
       "      <th>ice_cream</th>\n",
       "      <th>picnic</th>\n",
       "      <th>viewpoint</th>\n",
       "      <th>gallery</th>\n",
       "      <th>museum</th>\n",
       "      <th>nightclub</th>\n",
       "      <th>drinking_water</th>\n",
       "      <th>historic</th>\n",
       "      <th>t_attraction</th>\n",
       "    </tr>\n",
       "  </thead>\n",
       "  <tbody>\n",
       "    <tr>\n",
       "      <th>0</th>\n",
       "      <td>1098.966667</td>\n",
       "      <td>92.166667</td>\n",
       "      <td>36.966667</td>\n",
       "      <td>21.966667</td>\n",
       "      <td>9.633333</td>\n",
       "      <td>7.433333</td>\n",
       "      <td>7.066667</td>\n",
       "      <td>2.6000</td>\n",
       "      <td>1.566667</td>\n",
       "      <td>0.900</td>\n",
       "      <td>1.666667</td>\n",
       "      <td>0.8000</td>\n",
       "      <td>1.133333</td>\n",
       "      <td>1.133333</td>\n",
       "      <td>0.3</td>\n",
       "      <td>0.200</td>\n",
       "    </tr>\n",
       "    <tr>\n",
       "      <th>1</th>\n",
       "      <td>99.402500</td>\n",
       "      <td>19.890000</td>\n",
       "      <td>4.785000</td>\n",
       "      <td>2.677500</td>\n",
       "      <td>1.042500</td>\n",
       "      <td>0.805000</td>\n",
       "      <td>0.825000</td>\n",
       "      <td>0.3325</td>\n",
       "      <td>0.360000</td>\n",
       "      <td>0.345</td>\n",
       "      <td>0.215000</td>\n",
       "      <td>0.2425</td>\n",
       "      <td>0.180000</td>\n",
       "      <td>0.135000</td>\n",
       "      <td>0.1</td>\n",
       "      <td>0.085</td>\n",
       "    </tr>\n",
       "  </tbody>\n",
       "</table>\n",
       "</div>"
      ],
      "text/plain": [
       "          tree      bench restaurant       cafe       atm convenience  \\\n",
       "0  1098.966667  92.166667  36.966667  21.966667  9.633333    7.433333   \n",
       "1    99.402500  19.890000   4.785000   2.677500  1.042500    0.805000   \n",
       "\n",
       "        bar ice_cream    picnic viewpoint   gallery  museum nightclub  \\\n",
       "0  7.066667    2.6000  1.566667     0.900  1.666667  0.8000  1.133333   \n",
       "1  0.825000    0.3325  0.360000     0.345  0.215000  0.2425  0.180000   \n",
       "\n",
       "  drinking_water historic t_attraction  \n",
       "0       1.133333      0.3        0.200  \n",
       "1       0.135000      0.1        0.085  "
      ]
     },
     "execution_count": 64,
     "metadata": {},
     "output_type": "execute_result"
    }
   ],
   "source": [
    "cluster_centers = pd.DataFrame(data=kmeans.cluster_centers_, columns = [df_poicount.columns[3:]])\n",
    "cluster_centers"
   ]
  },
  {
   "cell_type": "markdown",
   "metadata": {},
   "source": [
    "What happens: the biggest cluster \"eats\" the second biggest. Which is a loss in information. Even if the second biggest cluster is just a subtype with many trees as well, it's worth keeing it."
   ]
  },
  {
   "cell_type": "markdown",
   "metadata": {},
   "source": [
    "Let's try some dimensionality reduction accompanied with plotting using 3 clusters"
   ]
  },
  {
   "cell_type": "code",
   "execution_count": 68,
   "metadata": {},
   "outputs": [
    {
     "data": {
      "text/html": [
       "<div>\n",
       "<style scoped>\n",
       "    .dataframe tbody tr th:only-of-type {\n",
       "        vertical-align: middle;\n",
       "    }\n",
       "\n",
       "    .dataframe tbody tr th {\n",
       "        vertical-align: top;\n",
       "    }\n",
       "\n",
       "    .dataframe thead th {\n",
       "        text-align: right;\n",
       "    }\n",
       "</style>\n",
       "<table border=\"1\" class=\"dataframe\">\n",
       "  <thead>\n",
       "    <tr style=\"text-align: right;\">\n",
       "      <th></th>\n",
       "      <th>pca1</th>\n",
       "      <th>pca2</th>\n",
       "      <th>cluster</th>\n",
       "    </tr>\n",
       "  </thead>\n",
       "  <tbody>\n",
       "    <tr>\n",
       "      <th>0</th>\n",
       "      <td>-460507.846333</td>\n",
       "      <td>-530.873509</td>\n",
       "      <td>1</td>\n",
       "    </tr>\n",
       "    <tr>\n",
       "      <th>1</th>\n",
       "      <td>329473.150824</td>\n",
       "      <td>-463.965885</td>\n",
       "      <td>1</td>\n",
       "    </tr>\n",
       "    <tr>\n",
       "      <th>2</th>\n",
       "      <td>-460508.846008</td>\n",
       "      <td>-534.464516</td>\n",
       "      <td>1</td>\n",
       "    </tr>\n",
       "    <tr>\n",
       "      <th>3</th>\n",
       "      <td>-525204.846291</td>\n",
       "      <td>-534.235319</td>\n",
       "      <td>1</td>\n",
       "    </tr>\n",
       "    <tr>\n",
       "      <th>4</th>\n",
       "      <td>-530330.845254</td>\n",
       "      <td>-545.998410</td>\n",
       "      <td>1</td>\n",
       "    </tr>\n",
       "  </tbody>\n",
       "</table>\n",
       "</div>"
      ],
      "text/plain": [
       "            pca1        pca2  cluster\n",
       "0 -460507.846333 -530.873509        1\n",
       "1  329473.150824 -463.965885        1\n",
       "2 -460508.846008 -534.464516        1\n",
       "3 -525204.846291 -534.235319        1\n",
       "4 -530330.845254 -545.998410        1"
      ]
     },
     "execution_count": 68,
     "metadata": {},
     "output_type": "execute_result"
    }
   ],
   "source": [
    "# Initialising the KMeans class with more or less standard parameters and applying it\n",
    "kmeans = KMeans(init=\"random\", n_clusters=3, n_init=50, max_iter=500)\n",
    "kmeans.fit(poicount)\n",
    "label = kmeans.labels_\n",
    "\n",
    "# Principal Component Analysis\n",
    "pca = PCA(n_components=2)\n",
    "principal_comp = pca.fit_transform(df_poicount)\n",
    "pca_df = pd.DataFrame(data=principal_comp,columns=['pca1','pca2'])\n",
    "pca_df = pd.concat([pca_df,pd.DataFrame({'cluster':label})],axis=1)\n",
    "pca_df.head()"
   ]
  },
  {
   "cell_type": "code",
   "execution_count": 70,
   "metadata": {},
   "outputs": [
    {
     "data": {
      "image/png": "[encoded data removed]",
      "text/plain": [
       "<Figure size 360x360 with 1 Axes>"
      ]
     },
     "metadata": {},
     "output_type": "display_data"
    }
   ],
   "source": [
    "# Scatterplot of our clusters, reduced to two dimensions\n",
    "plt.figure(figsize=(5,5))\n",
    "ax= sns.scatterplot(x='pca1', y='pca2', hue='cluster',data=pca_df,palette=['red','green','blue'])\n",
    "plt.show()"
   ]
  },
  {
   "cell_type": "markdown",
   "metadata": {},
   "source": [
    "There seem to be many outliers! Next step would be to reduce them by datacleaning and run everything again."
   ]
  }
 ],
 "metadata": {
  "interpreter": {
   "hash": "564affda49c06e85285ae0fe8dd2119d248d31041ebeec06fe0c8f5f82f46c07"
  },
  "kernelspec": {
   "display_name": "Python 3.10.1 64-bit",
   "language": "python",
   "name": "python3"
  },
  "language_info": {
   "codemirror_mode": {
    "name": "ipython",
    "version": 3
   },
   "file_extension": ".py",
   "mimetype": "text/x-python",
   "name": "python",
   "nbconvert_exporter": "python",
   "pygments_lexer": "ipython3",
   "version": "3.10.1"
  },
  "orig_nbformat": 4
 },
 "nbformat": 4,
 "nbformat_minor": 2
}
